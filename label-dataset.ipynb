{
 "cells": [
  {
   "cell_type": "markdown",
   "metadata": {},
   "source": [
    "# Strip Templates and Manually Label Additional Comments\n",
    "This notebook:\n",
    "1. reads in the dataset of ~150k comments\n",
    "2. merges the labels from the dataset of 500 comments manually labelled by CWP\n",
    "3. labels ~50k additional comments based on identified templates\n",
    "4. exports a random sample of 1000 unlabelled comments\n",
    "5. imports the resulting file after these comments have been manually labelled\n",
    "6. merges the new labels to the dataset\n",
    "7. exports the resulting dataset to data/comments-labelled.csv"
   ]
  },
  {
   "cell_type": "code",
   "execution_count": 1,
   "metadata": {},
   "outputs": [],
   "source": [
    "import pandas as pd"
   ]
  },
  {
   "cell_type": "code",
   "execution_count": 2,
   "metadata": {
    "collapsed": true
   },
   "outputs": [],
   "source": [
    "comments = pd.read_csv('data/comments.csv')\n",
    "cwp = pd.read_csv('data/cwp-sample.csv')"
   ]
  },
  {
   "cell_type": "code",
   "execution_count": 3,
   "metadata": {},
   "outputs": [],
   "source": [
    "# merge the 'Sentiment' labels from cwp dataset\n",
    "cwp['labelled_by'] = 'hand' # obs will be labelled by hand or by template\n",
    "df = pd.merge(\n",
    "    comments, \n",
    "    cwp[['ID', 'Sentiment', 'labelled_by']], \n",
    "    how='left', \n",
    "    left_on='document_id', \n",
    "    right_on='ID'\n",
    ")"
   ]
  },
  {
   "cell_type": "code",
   "execution_count": 4,
   "metadata": {},
   "outputs": [
    {
     "name": "stdout",
     "output_type": "stream",
     "text": [
      "Removed 3814 comments with attachments.\n"
     ]
    }
   ],
   "source": [
    "# Remove comments with attachments\n",
    "with_attachment_count = len(df[df['has_attachments']==True])\n",
    "print(\"Removed \" + str(with_attachment_count) + \" comments with attachments.\")\n",
    "df = df[df['has_attachments']==False]"
   ]
  },
  {
   "cell_type": "code",
   "execution_count": 5,
   "metadata": {},
   "outputs": [
    {
     "name": "stdout",
     "output_type": "stream",
     "text": [
      "Removed 1399 comments consisting only of only \"Please Write Your Comment Here:\"\n",
      "Removed 55 comments consisting only of only \"See attached\"\n"
     ]
    }
   ],
   "source": [
    "empty_comments = ['Please Write Your Comment Here:', 'See attached']\n",
    "for text in empty_comments:\n",
    "    print('Removed %s comments consisting only of only \"%s\"' % (str(len(df[df['comment']==text])), text))\n",
    "    df = df[df['comment']!=text]"
   ]
  },
  {
   "cell_type": "code",
   "execution_count": 7,
   "metadata": {},
   "outputs": [
    {
     "name": "stderr",
     "output_type": "stream",
     "text": [
      "/Users/markegge/anaconda3/envs/comments/lib/python3.6/site-packages/ipykernel_launcher.py:11: UserWarning: This pattern has match groups. To actually get the groups, use str.extract.\n",
      "  # This is added back by InteractiveShellApp.init_path()\n",
      "/Users/markegge/anaconda3/envs/comments/lib/python3.6/site-packages/ipykernel_launcher.py:9: UserWarning: This pattern has match groups. To actually get the groups, use str.extract.\n",
      "  if __name__ == '__main__':\n"
     ]
    }
   ],
   "source": [
    "# read in list of high frequency sentences. \n",
    "# Count the number of periods as a proxy for the number of sentences\n",
    "# Tally the sentiment associated with the HFSs that occur in each comment\n",
    "hfs = pd.read_csv('data/high-frequency-sentences.csv')\n",
    "df['pos'] = 0\n",
    "df['neg'] = 0\n",
    "for i, item in hfs.iterrows():\n",
    "    if item['sentiment'] == 'Positive':\n",
    "        df.loc[df['comment'].str.contains(item['sentence']), 'pos'] += 1\n",
    "    elif item['sentiment'] == 'Negative':\n",
    "        df.loc[df['comment'].str.contains(item['sentence']), 'neg'] += 1"
   ]
  },
  {
   "cell_type": "code",
   "execution_count": null,
   "metadata": {},
   "outputs": [],
   "source": [
    "# import csv\n",
    "# with open('data/comment-templates.csv', 'r') as f:\n",
    "#     reader = csv.DictReader(f)\n",
    "#     templates = [row for row in reader]\n",
    "# templates[:2]\n",
    "# df['template'] = False\n",
    "# for template in templates:\n",
    "#     count = len(df[~df['template'] & df['comment'].str.contains(template['Key']) ] )\n",
    "#     print('Labelled %s comments as %s with string \"%s\"' % (str(count), template['Sentiment'], template['Key']))\n",
    "#     df.loc[~df['template'] & df['comment'].str.contains(template['Key']), ['Sentiment', 'template']] = [template['Sentiment'], True]\n"
   ]
  },
  {
   "cell_type": "code",
   "execution_count": null,
   "metadata": {},
   "outputs": [],
   "source": [
    "# print('Drawing a random sample of 1000 from a population of %s unlabelled comments.' % str(len(df['Sentiment'].isnull())))\n",
    "# print('having first removed ' + str(len(df[df['Sentiment'] == 'Positive'])) + ' positive comments')\n",
    "# print('and having first removed ' + str(len(df[df['Sentiment'] == 'Negative'])) + ' negative comments')\n",
    "\n",
    "# sample = df[df['Sentiment'].isnull()].sample(n=1000)\n",
    "# sample.to_csv('data/expanded_sample.csv')"
   ]
  },
  {
   "cell_type": "markdown",
   "metadata": {},
   "source": [
    "(Manually labelled comments by reviewing in Excel and saved resulting file as expanded_sample-labelled.csv)"
   ]
  },
  {
   "cell_type": "code",
   "execution_count": 10,
   "metadata": {},
   "outputs": [
    {
     "name": "stdout",
     "output_type": "stream",
     "text": [
      "Labelled 941 Positive\n",
      "Labelled 41 Negative\n",
      "Labelled 18 Neutral\n"
     ]
    }
   ],
   "source": [
    "# bring in the results from my manual labelling\n",
    "labels = pd.read_csv('data/expanded_sample-labelled.csv')\n",
    "for sentiment in list(labels['Sentiment'].unique()):\n",
    "    doc_ids = labels.loc[labels['Sentiment']==sentiment, 'document_id']\n",
    "    df.loc[df['document_id'].isin(doc_ids), ['Sentiment', 'labelled_by']] = [sentiment, 'hand']    \n",
    "    print(\"Labelled %s %s\" % (str(len(doc_ids)), sentiment))"
   ]
  },
  {
   "cell_type": "code",
   "execution_count": 11,
   "metadata": {},
   "outputs": [],
   "source": [
    "df.loc[df['pos'] >= 1, ['Sentiment', 'labelled_by']] = ['Positive', 'template']\n",
    "df.loc[df['neg'] >= 1, ['Sentiment', 'labelled_by']] = ['Negative', 'template']"
   ]
  },
  {
   "cell_type": "code",
   "execution_count": 29,
   "metadata": {},
   "outputs": [
    {
     "data": {
      "image/png": "[encoded data removed]",
      "text/plain": [
       "<matplotlib.figure.Figure at 0x1158da978>"
      ]
     },
     "metadata": {},
     "output_type": "display_data"
    }
   ],
   "source": [
    "%matplotlib inline\n",
    "import matplotlib.pyplot as plt\n",
    "plt.figure()\n",
    "plt.subplot(221)\n",
    "plt.title('Hand labelled sentiment')\n",
    "df.loc[df['labelled_by']=='hand', 'Sentiment'].value_counts().plot.bar()\n",
    "plt.subplot(222)\n",
    "plt.title('Template labelled sentiment')\n",
    "df.loc[df['labelled_by']=='template', 'Sentiment'].value_counts().plot.bar()\n",
    "\n",
    "plt.show()"
   ]
  },
  {
   "cell_type": "code",
   "execution_count": 18,
   "metadata": {},
   "outputs": [],
   "source": [
    "# write results to file\n",
    "df.to_csv('data/comments-labelled.csv')"
   ]
  },
  {
   "cell_type": "code",
   "execution_count": null,
   "metadata": {
    "collapsed": true
   },
   "outputs": [],
   "source": []
  }
 ],
 "metadata": {
  "kernelspec": {
   "display_name": "Python 3",
   "language": "python",
   "name": "python3"
  },
  "language_info": {
   "codemirror_mode": {
    "name": "ipython",
    "version": 3
   },
   "file_extension": ".py",
   "mimetype": "text/x-python",
   "name": "python",
   "nbconvert_exporter": "python",
   "pygments_lexer": "ipython3",
   "version": "3.6.1"
  }
 },
 "nbformat": 4,
 "nbformat_minor": 2
}
