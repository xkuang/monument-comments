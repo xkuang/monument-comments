{
 "cells": [
  {
   "cell_type": "markdown",
   "metadata": {},
   "source": [
    "# Strip Templates and Manually Label Additional Comments\n",
    "This notebook:\n",
    "1. reads in the dataset of ~150k comments\n",
    "2. merges the labels from the dataset of 500 comments manually labelled by CWP\n",
    "3. labels ~50k additional comments based on identified templates\n",
    "4. exports a random sample of 1000 unlabelled comments\n",
    "5. imports the resulting file after these comments have been manually labelled\n",
    "6. merges the new labels to the dataset\n",
    "7. exports the resulting dataset to data/comments-labelled.csv"
   ]
  },
  {
   "cell_type": "code",
   "execution_count": 1,
   "metadata": {},
   "outputs": [],
   "source": [
    "import pandas as pd"
   ]
  },
  {
   "cell_type": "code",
   "execution_count": 2,
   "metadata": {
    "collapsed": true
   },
   "outputs": [],
   "source": [
    "comments = pd.read_csv('data/comments.csv')\n",
    "cwp = pd.read_csv('data/cwp-sample.csv')"
   ]
  },
  {
   "cell_type": "code",
   "execution_count": 3,
   "metadata": {},
   "outputs": [],
   "source": [
    "# merge the 'Sentiment' labels from cwp dataset\n",
    "df = pd.merge(\n",
    "    comments, \n",
    "    cwp[['ID', 'Sentiment']], \n",
    "    how='left', \n",
    "    left_on='document_id', \n",
    "    right_on='ID'\n",
    ")"
   ]
  },
  {
   "cell_type": "code",
   "execution_count": 4,
   "metadata": {},
   "outputs": [
    {
     "name": "stdout",
     "output_type": "stream",
     "text": [
      "Removed 3814 comments with attachments.\n"
     ]
    }
   ],
   "source": [
    "# Remove comments with attachments\n",
    "with_attachment_count = len(df[df['has_attachments']==True])\n",
    "print(\"Removed \" + str(with_attachment_count) + \" comments with attachments.\")\n",
    "df = df[df['has_attachments']==False]"
   ]
  },
  {
   "cell_type": "code",
   "execution_count": 5,
   "metadata": {},
   "outputs": [
    {
     "name": "stdout",
     "output_type": "stream",
     "text": [
      "Removed 1399 comments consisting only of only \"Please Write Your Comment Here:\"\n",
      "Removed 55 comments consisting only of only \"See attached\"\n"
     ]
    }
   ],
   "source": [
    "empty_comments = ['Please Write Your Comment Here:', 'See attached']\n",
    "for text in empty_comments:\n",
    "    print('Removed %s comments consisting only of only \"%s\"' % (str(len(df[df['comment']==text])), text))\n",
    "    df = df[df['comment']!=text]"
   ]
  },
  {
   "cell_type": "code",
   "execution_count": 7,
   "metadata": {},
   "outputs": [
    {
     "name": "stdout",
     "output_type": "stream",
     "text": [
      "Labelled 1287 comments as Positive with string \"Our national monuments and public lands and waters help define who we are as a nation by telling the story of our historical, cultural, and natural heritage.\"\n",
      "Labelled 386 comments as Positive with string \"These historic sites represent a crucial part of our American heritage - they protect Native American sacred ground, preserve areas of historic and scientific value, and drive local economies with opportunities for recreation and tourism.\"\n",
      "Labelled 3707 comments as Positive with string \"Protected public lands are an important part of what makes America great. I strongly urge you to oppose any efforts to eliminate or shrink our national monuments.\"\n",
      "Labelled 1224 comments as Positive with string \"As a mountain biker and a citizen co-owner of our country's public lands, I SUPPORT our existing national monuments. \"\n",
      "Labelled 2060 comments as Positive with string \"Bears Ears National Monument is ecologically rich and culturally valuable. Rescinding or changing it hurts one of our nations most incredible landscapes.\"\n",
      "Labelled 2159 comments as Positive with string \"Bears Ears National Monument should have been protected 50 years ago\"\n",
      "Labelled 1923 comments as Positive with string \"Bears Ears National Monument was created through a process of public input and diverse interests coming together for a common goal. Please dont change it.\"\n",
      "Labelled 2485 comments as Positive with string \"Our public lands are vital to our national legacy, which belongs not only to us, but also to all future Americans. These are the wild places we lovewhere we run, hike, camp, ski, fish, climb and spend important time with our friends and families.\"\n",
      "Labelled 2402 comments as Positive with string \"Protected public lands are a part of our national heritagean attack on this monument, or any monument for that matter, is an attack on America.\"\n",
      "Labelled 1053 comments as Positive with string \"I strongly urge you to maintain the size of and protections for all of our national monuments as they were originally designated, including Mojave Trails and Sand to Snow National Monuments in California\"\n",
      "Labelled 85 comments as Positive with string \"I respectfully submit these comments as a member of the Society for American Archaeology in support of the Bears Ears National Monument.\"\n",
      "Labelled 4942 comments as Positive with string \"Endangered and threatened species such as desert tortoises, kit foxes, burrowing owls, pallid sturgeon, and rare native plants rely on these protected spaces.\"\n",
      "Labelled 22917 comments as Positive with string \"I strongly urge you to protect all national monuments under review, and to reject any changes to these iconic landscapes.\"\n",
      "Labelled 5004 comments as Positive with string \"Please stand with me and Backcountry Hunters & Anglers in defending the world-class habitat and hunting and angling found in America's national monuments.\"\n",
      "Labelled 3509 comments as Positive with string \"I am opposed to any alterations to Katahdin Woods & Waters National Monument.\"\n",
      "Labelled 498 comments as Negative with string \"As a member of the American Motorcyclist Association and an off-highway vehicle recreation enthusiast\"\n"
     ]
    }
   ],
   "source": [
    "import csv\n",
    "with open('data/comment-templates.csv', 'r') as f:\n",
    "    reader = csv.DictReader(f)\n",
    "    templates = [row for row in reader]\n",
    "templates[:2]\n",
    "df['template'] = False\n",
    "for template in templates:\n",
    "    count = len(df[~df['template'] & df['comment'].str.contains(template['Key']) ] )\n",
    "    print('Labelled %s comments as %s with string \"%s\"' % (str(count), template['Sentiment'], template['Key']))\n",
    "    df.loc[~df['template'] & df['comment'].str.contains(template['Key']), ['Sentiment', 'template']] = [template['Sentiment'], True]\n"
   ]
  },
  {
   "cell_type": "code",
   "execution_count": 10,
   "metadata": {},
   "outputs": [
    {
     "name": "stdout",
     "output_type": "stream",
     "text": [
      "Drawing a random sample of 1000 from a population of 146363 unlabelled comments.\n",
      "having first removed 56190 positive comments\n",
      "and having first removed 548 negative comments\n"
     ]
    }
   ],
   "source": [
    "print('Drawing a random sample of 1000 from a population of %s unlabelled comments.' % str(len(df['Sentiment'].isnull())))\n",
    "print('having first removed ' + str(len(df[df['Sentiment'] == 'Positive'])) + ' positive comments')\n",
    "print('and having first removed ' + str(len(df[df['Sentiment'] == 'Negative'])) + ' negative comments')\n",
    "\n",
    "sample = df[df['Sentiment'].isnull()].sample(n=1000)\n",
    "#sample.to_csv('data/expanded_sample.csv')"
   ]
  },
  {
   "cell_type": "markdown",
   "metadata": {},
   "source": [
    "(Manually labelled comments by reviewing in Excel and saved resulting file as expanded_sample-labelled.csv)"
   ]
  },
  {
   "cell_type": "code",
   "execution_count": 8,
   "metadata": {},
   "outputs": [
    {
     "name": "stdout",
     "output_type": "stream",
     "text": [
      "Labelled 941 Positive\n",
      "Labelled 41 Negative\n",
      "Labelled 18 Neutral\n"
     ]
    }
   ],
   "source": [
    "# bring in the results from my manual labelling\n",
    "labels = pd.read_csv('data/expanded_sample-labelled.csv')\n",
    "for sentiment in list(labels['Sentiment'].unique()):\n",
    "    doc_ids = labels.loc[labels['Sentiment']==sentiment, 'document_id']\n",
    "    df.loc[df['document_id'].isin(doc_ids)] = sentiment    \n",
    "    print(\"Labelled %s %s\" % (str(len(doc_ids)), sentiment))"
   ]
  },
  {
   "cell_type": "code",
   "execution_count": 11,
   "metadata": {},
   "outputs": [
    {
     "data": {
      "text/plain": [
       "<matplotlib.axes._subplots.AxesSubplot at 0x1100f9f60>"
      ]
     },
     "execution_count": 11,
     "metadata": {},
     "output_type": "execute_result"
    },
    {
     "data": {
      "image/png": "[encoded data removed]",
      "text/plain": [
       "<matplotlib.figure.Figure at 0x1101e76a0>"
      ]
     },
     "metadata": {},
     "output_type": "display_data"
    }
   ],
   "source": [
    "%matplotlib inline\n",
    "import matplotlib.pyplot as plt\n",
    "plt.figure()\n",
    "df['Sentiment'].value_counts().plot.bar()"
   ]
  },
  {
   "cell_type": "code",
   "execution_count": 12,
   "metadata": {},
   "outputs": [],
   "source": [
    "# write results to file\n",
    "df.to_csv('data/comments-labelled.csv')"
   ]
  }
 ],
 "metadata": {
  "kernelspec": {
   "display_name": "Python 3",
   "language": "python",
   "name": "python3"
  },
  "language_info": {
   "codemirror_mode": {
    "name": "ipython",
    "version": 3
   },
   "file_extension": ".py",
   "mimetype": "text/x-python",
   "name": "python",
   "nbconvert_exporter": "python",
   "pygments_lexer": "ipython3",
   "version": "3.6.1"
  }
 },
 "nbformat": 4,
 "nbformat_minor": 2
}
