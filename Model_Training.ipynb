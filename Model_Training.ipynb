{
 "cells": [
  {
   "cell_type": "markdown",
   "metadata": {},
   "source": [
    "# This notebook:\n",
    "- splits labelled data into train, validation, and test sets\n",
    "- extract features and evaluation performance using 10-fold cross validation\n",
    "- optimize select model with validation set"
   ]
  },
  {
   "cell_type": "code",
   "execution_count": null,
   "metadata": {
    "collapsed": true
   },
   "outputs": [],
   "source": []
  },
  {
   "cell_type": "markdown",
   "metadata": {},
   "source": [
    "### Setup"
   ]
  },
  {
   "cell_type": "code",
   "execution_count": 1,
   "metadata": {
    "collapsed": true
   },
   "outputs": [],
   "source": [
    "import pandas as pd\n",
    "import numpy as np\n",
    "import re\n",
    "from sklearn.feature_extraction.text import CountVectorizer\n",
    "from sklearn.feature_extraction.text import TfidfVectorizer"
   ]
  },
  {
   "cell_type": "markdown",
   "metadata": {},
   "source": [
    "### Utility Functions"
   ]
  },
  {
   "cell_type": "code",
   "execution_count": 2,
   "metadata": {
    "collapsed": true
   },
   "outputs": [],
   "source": [
    "# Data preprocessing\n",
    "\n",
    "import gensim\n",
    "import re\n",
    "\n",
    "\n",
    "def split_into_sentences(text):\n",
    "    '''\n",
    "    Function to break text (astring) into sentences (a list of strings).\n",
    "    # Ref: https://stackoverflow.com/a/31505798\n",
    "    '''\n",
    "    caps = \"([A-Z])\"\n",
    "    digits = \"([0-9])\"\n",
    "    prefixes = \"(Mr|St|Mrs|Ms|Dr)[.]\"\n",
    "    suffixes = \"(Inc|Ltd|Jr|Sr|Co)\"\n",
    "    starters = \"(Mr|Mrs|Ms|Dr|He\\s|She\\s|It\\s|They\\s|Their\\s|Our\\s|We\\s|But\\s|However\\s|That\\s|This\\s|Wherever)\"\n",
    "    acronyms = \"([A-Z][.][A-Z][.](?:[A-Z][.])?)\"\n",
    "    websites = \"[.](com|net|org|io|gov)\"\n",
    "\n",
    "    text = \" \" + text + \"  \"\n",
    "    text = text.replace(\"\\n\",\" \")\n",
    "    text = re.sub(prefixes,\"\\\\1<prd>\",text)\n",
    "    text = re.sub(websites,\"<prd>\\\\1\",text)\n",
    "    if \"Ph.D\" in text: text = text.replace(\"Ph.D.\",\"Ph<prd>D<prd>\")\n",
    "    text = re.sub(\"\\s\" + caps + \"[.] \",\" \\\\1<prd> \",text)\n",
    "    text = re.sub(digits + \"[.]\" + digits,\"\\\\1<prd>\\\\2\",text)\n",
    "    text = re.sub(acronyms+\" \"+starters,\"\\\\1<stop> \\\\2\",text)\n",
    "    text = re.sub(caps + \"[.]\" + caps + \"[.]\" + caps + \"[.]\",\"\\\\1<prd>\\\\2<prd>\\\\3<prd>\",text)\n",
    "    text = re.sub(caps + \"[.]\" + caps + \"[.]\",\"\\\\1<prd>\\\\2<prd>\",text)\n",
    "    text = re.sub(\" \"+suffixes+\"[.] \"+starters,\" \\\\1<stop> \\\\2\",text)\n",
    "    text = re.sub(\" \"+suffixes+\"[.]\",\" \\\\1<prd>\",text)\n",
    "    text = re.sub(\" \" + caps + \"[.]\",\" \\\\1<prd>\",text)\n",
    "    if \"”\" in text: text = text.replace(\".”\",\"”.\")\n",
    "    if \"\\\"\" in text: text = text.replace(\".\\\"\",\"\\\".\")\n",
    "    if \"!\" in text: text = text.replace(\"!\\\"\",\"\\\"!\")\n",
    "    if \"?\" in text: text = text.replace(\"?\\\"\",\"\\\"?\")\n",
    "    text = text.replace(\".\",\".<stop>\")\n",
    "    text = text.replace(\"?\",\"?<stop>\")\n",
    "    text = text.replace(\"!\",\"!<stop>\")\n",
    "    text = text.replace(\"<prd>\",\".\")\n",
    "    sentences = text.split(\"<stop>\")\n",
    "    sentences = [s.strip() for s in sentences if len(s.strip())>1]\n",
    "    return sentences\n",
    "\n",
    "\n",
    "def remove_signature(sentences):\n",
    "    '''\n",
    "    Function to remove the signature line from comment sentences\n",
    "    '''\n",
    "    closing = ['thank you','thanks','sincerely','regards']\n",
    "    last_sent = sentences[-1].lower()\n",
    "    if any(term in last_sent for term in closing):\n",
    "        return sentences[:-1]\n",
    "    return sentences\n",
    "\n",
    "\n",
    "def select_sentences(text, first_n, last_m):\n",
    "    '''\n",
    "    Function to extract the first N and the last M sentences from text, excluding the signature line.\n",
    "    '''\n",
    "    sentences = split_into_sentences(text)\n",
    "    sentences = remove_signature(sentences)\n",
    "    return \" \".join(sentences[:first_n]+sentences[-last_m:])\n",
    "\n",
    "\n",
    "def hasContent(sentences):\n",
    "    if len(sentences) == 0:\n",
    "        return False\n",
    "    if sentences[0].find('Leave your personal comment here') != -1 \\\n",
    "    or (len(sentences) == 2 and len(sentences[0]) < 30 and \\\n",
    "        sentences[0].find('Dear Secretary Ryan Zinke,') != -1):\n",
    "        return False\n",
    "    return True\n",
    "\n",
    "\n",
    "def tokenize(text, minLength=3):\n",
    "    return gensim.utils.simple_preprocess(text, deacc=True, min_len=minLength)\n"
   ]
  },
  {
   "cell_type": "code",
   "execution_count": 3,
   "metadata": {
    "collapsed": false
   },
   "outputs": [],
   "source": [
    "# Customize tokenizers for feature extraction\n",
    "\n",
    "import gensim\n",
    "from nltk.stem.porter import *\n",
    "\n",
    "class PorterStemmerTokenizer(object):\n",
    "    def __init__(self):\n",
    "        self.stemmer = PorterStemmer()\n",
    "    def __call__(self, doc):\n",
    "        tokens = gensim.utils.simple_preprocess(doc, deacc=True, min_len=2)\n",
    "        return [self.stemmer.stem(t) for t in tokens]\n",
    "\n",
    "    \n",
    "from nltk.stem import WordNetLemmatizer \n",
    "\n",
    "class LemmaTokenizer(object):\n",
    "    def __init__(self):\n",
    "        self.wnl = WordNetLemmatizer()\n",
    "    def __call__(self, doc):\n",
    "        tokens = gensim.utils.simple_preprocess(doc, deacc=True, min_len=2)\n",
    "        return [self.wnl.lemmatize(t) for t in tokens]"
   ]
  },
  {
   "cell_type": "code",
   "execution_count": 4,
   "metadata": {
    "collapsed": true
   },
   "outputs": [],
   "source": [
    "# Model evaluation\n",
    "\n",
    "from sklearn.model_selection import KFold\n",
    "from sklearn.linear_model import LogisticRegression\n",
    "from sklearn.linear_model import SGDClassifier\n",
    "from sklearn.metrics.classification import cohen_kappa_score\n",
    "\n",
    "\n",
    "def run_CV(feature_matrices, labels, model_list, num_folds):\n",
    "    '''\n",
    "    Build a classifier with for each feature matrix and model, and evaluate with \n",
    "    a N-fold cross validation. The performance is measured with kappa statistic.\n",
    "    The output is a list of performance results per model. \n",
    "    '''\n",
    "    cv = KFold(num_folds)    \n",
    "    result = []\n",
    "    for model in model_list:\n",
    "        model_scores = []\n",
    "        for X in feature_matrices:\n",
    "            kappa_scores = []\n",
    "            for train_index, test_index in cv.split(X): # cv\n",
    "                model.fit(X[train_index], labels.iloc[train_index]) # fit a logit model to the data\n",
    "                ypred = model.predict(X[test_index]) # make predictions\n",
    "                kappa = cohen_kappa_score(labels.iloc[test_index], ypred) # get kappa score\n",
    "                kappa_scores.append(kappa)\n",
    "            model_scores.append(np.mean(kappa_scores))\n",
    "        result.append(model_scores)\n",
    "    return result\n",
    "\n",
    "\n",
    "def evaluate_on_test_set(vectorizers, model, train_data, test_data):\n",
    "    scores = []\n",
    "    for X in vectorizers:\n",
    "        train_vectors = X.fit_transform(train_data['comment']) # construct feature vectors (train)\n",
    "        clf = model.fit(train_vectors, train_data['sentiment'].cat.codes) # fit model\n",
    "        test_vectors = X.transform(test_data['comment']) # construct feature vectors (test)\n",
    "        predicted = clf.predict(test_vectors) # make predictions\n",
    "        kappa = cohen_kappa_score(test_data['sentiment'].cat.codes, predicted) # get kappa score\n",
    "        scores.append(kappa)\n",
    "    print(scores)\n",
    "    return scores\n"
   ]
  },
  {
   "cell_type": "code",
   "execution_count": 5,
   "metadata": {
    "collapsed": true
   },
   "outputs": [],
   "source": [
    "# Dataframe styling\n",
    "\n",
    "def highlight_max(s):\n",
    "    '''\n",
    "    highlight the maximum in a Series yellow.\n",
    "    '''\n",
    "    is_max = s == s.max()\n",
    "    return ['background-color: yellow' if v else '' for v in is_max]\n"
   ]
  },
  {
   "cell_type": "code",
   "execution_count": null,
   "metadata": {
    "collapsed": true
   },
   "outputs": [],
   "source": []
  },
  {
   "cell_type": "code",
   "execution_count": null,
   "metadata": {
    "collapsed": true
   },
   "outputs": [],
   "source": []
  },
  {
   "cell_type": "markdown",
   "metadata": {},
   "source": [
    "## Load and split data"
   ]
  },
  {
   "cell_type": "code",
   "execution_count": null,
   "metadata": {
    "collapsed": false,
    "scrolled": false
   },
   "outputs": [],
   "source": [
    "# Load in the data from CSV\n",
    "\n",
    "labelledComments = pd.read_csv(\"data/comments-to-label.csv\", usecols=['document_id', 'comment', 'sentiment']).dropna()\n",
    "labelledComments['comment'] = labelledComments['comment'].map(lambda x: re.sub(\"\\r\", \" \", x))\n",
    "\n",
    "print(\"# comments labelled:\", labelledComments.shape[0])\n",
    "labelledComments.describe()"
   ]
  },
  {
   "cell_type": "code",
   "execution_count": null,
   "metadata": {
    "collapsed": false,
    "scrolled": true
   },
   "outputs": [],
   "source": [
    "# View class distribution\n",
    "\n",
    "labelledComments['sentiment'] = labelledComments['sentiment'].astype('category')\n",
    "print(labelledComments.sentiment.value_counts())\n",
    "print(\"Index for class labels:\", labelledComments.sentiment.cat.categories)"
   ]
  },
  {
   "cell_type": "code",
   "execution_count": null,
   "metadata": {
    "collapsed": false
   },
   "outputs": [],
   "source": [
    "# Split labelled dataset into train (.7), validation (.2), and test (.1) sets \n",
    "\n",
    "train, validate, test = np.split(labelledComments.sample(frac=1), [int(.7*len(labelledComments)), int(.9*len(labelledComments))])\n",
    "\n",
    "train.to_csv('data/comments-train.csv', index=False)\n",
    "validate.to_csv('data/comments-validate.csv', index=False)\n",
    "test.to_csv('data/comments-test.csv', index=False)\n",
    "\n",
    "print(\"# train:\", train.shape[0])\n",
    "print(\"# validate:\", validate.shape[0])\n",
    "print(\"# test:\", test.shape[0])"
   ]
  },
  {
   "cell_type": "code",
   "execution_count": null,
   "metadata": {
    "collapsed": false
   },
   "outputs": [],
   "source": [
    "# # Load data from file\n",
    "\n",
    "# train = pd.read_csv(\"data/comments-train.csv\", usecols=['document_id', 'comment', 'sentiment'])\n",
    "# validate = pd.read_csv(\"data/comments-validate.csv\", usecols=['document_id', 'comment', 'sentiment'])\n",
    "# test = pd.read_csv(\"data/comments-test.csv\", usecols=['document_id', 'comment', 'sentiment'])\n",
    "# print(\"# train:\", train.shape[0])\n",
    "# print(\"# validate:\", validate.shape[0])\n",
    "# print(\"# test:\", test.shape[0])"
   ]
  },
  {
   "cell_type": "code",
   "execution_count": null,
   "metadata": {
    "collapsed": true
   },
   "outputs": [],
   "source": []
  },
  {
   "cell_type": "code",
   "execution_count": null,
   "metadata": {
    "collapsed": true
   },
   "outputs": [],
   "source": []
  },
  {
   "cell_type": "markdown",
   "metadata": {},
   "source": [
    "## Extract features\n",
    "- baseline\n",
    "- content v.s. style test: stopwords removal, occurrence count, and tf-idf\n",
    "- token-level analysis: stemming and lemmatization\n",
    "- full text v.s. select sentences"
   ]
  },
  {
   "cell_type": "markdown",
   "metadata": {},
   "source": [
    "### baseline"
   ]
  },
  {
   "cell_type": "code",
   "execution_count": null,
   "metadata": {
    "collapsed": false,
    "scrolled": true
   },
   "outputs": [],
   "source": [
    "# Convert a collection of text documents to a bag-of-word matrix \n",
    "\n",
    "docs = train['comment']\n",
    "\n",
    "# baseline: unigram + bigram (binary)\n",
    "unigram_bigram_v = CountVectorizer(stop_words=None, ngram_range=(1, 2), min_df=5, binary=True)\n",
    "unigram_bigram = unigram_bigram_v.fit_transform(docs)"
   ]
  },
  {
   "cell_type": "markdown",
   "metadata": {},
   "source": [
    "### stopwords removal, occurrence count, and tf-idf"
   ]
  },
  {
   "cell_type": "code",
   "execution_count": null,
   "metadata": {
    "collapsed": true
   },
   "outputs": [],
   "source": [
    "# Simply change the parameters of CountVectorizer and TfidfVectorizer \n",
    "\n",
    "\n",
    "# unigram + bigram + stopwords removal\n",
    "unigram_bigram_noStopword_v = CountVectorizer(stop_words='english', ngram_range=(1, 2), min_df=5, binary=True)\n",
    "unigram_bigram_noStopword = unigram_bigram_noStopword_v.fit_transform(docs)\n",
    "\n",
    "# unigram + bigram (count)\n",
    "unigram_bigram_count_v = CountVectorizer(stop_words=None, ngram_range=(1, 2), min_df=5, binary=False)\n",
    "unigram_bigram_count = unigram_bigram_count_v.fit_transform(docs)\n",
    "\n",
    "# unigram + bigram (tf-idf)\n",
    "unigram_bigram_tfidf_v = TfidfVectorizer(stop_words=None, ngram_range=(1, 2), min_df=5, binary=False)\n",
    "unigram_bigram_tfidf = unigram_bigram_tfidf_v.fit_transform(docs)"
   ]
  },
  {
   "cell_type": "markdown",
   "metadata": {},
   "source": [
    "### stemming and lemmatization"
   ]
  },
  {
   "cell_type": "code",
   "execution_count": null,
   "metadata": {
    "collapsed": true
   },
   "outputs": [],
   "source": [
    "# Pass customized tokenizer objects to CountVectorizer\n",
    "\n",
    "# unigram + bigram + stemming\n",
    "unigram_bigram_stem_v = CountVectorizer(tokenizer=PorterStemmerTokenizer(), stop_words=None, ngram_range=(1, 2), min_df=5, binary=True)\n",
    "unigram_bigram_stem = unigram_bigram_stem_v.fit_transform(docs)\n",
    "\n",
    "# unigram + bigram + lemmatization\n",
    "unigram_bigram_lemma_v = CountVectorizer(tokenizer=LemmaTokenizer(), stop_words=None, ngram_range=(1, 2), min_df=5, binary=True)\n",
    "unigram_bigram_lemma = unigram_bigram_lemma_v.fit_transform(docs)"
   ]
  },
  {
   "cell_type": "markdown",
   "metadata": {},
   "source": [
    "### select sentences\n",
    "- split text into sentences\n",
    "- remove the signature line if there is any\n",
    "- extract the first three and last three sentences"
   ]
  },
  {
   "cell_type": "code",
   "execution_count": null,
   "metadata": {
    "collapsed": true
   },
   "outputs": [],
   "source": [
    "# # Remove default letter opening, i.e. \"Dear Secretary Ryan Zinke, \"\n",
    "\n",
    "# opening = \"(Dear Secretary Ryan Zinke,|Dear Secretary Zinke,)\"\n",
    "# labelledComments['comment'] = labelledComments['comment'].map(lambda x: re.sub(opening, \" \", x))"
   ]
  },
  {
   "cell_type": "code",
   "execution_count": null,
   "metadata": {
    "collapsed": false
   },
   "outputs": [],
   "source": [
    "# Extract first and last 3 sentences from text and transform them to vectors\n",
    "\n",
    "train['first3last3'] = train['comment'].map(lambda x: select_sentences(x,3,3))\n",
    "sents = train['first3last3'] \n",
    "\n",
    "# unigram + bigram (first and last 3 sentences)\n",
    "unigram_bigram_sents_v = CountVectorizer(stop_words=None, ngram_range=(1, 2), min_df=5, binary=True)\n",
    "unigram_bigram_sents = unigram_bigram_sents_v.fit_transform(sents)\n",
    "\n",
    "# unigram + bigram + stemming (first and last 3 sentences)\n",
    "unigram_bigram_sents_stem_v = CountVectorizer(tokenizer=PorterStemmerTokenizer(), stop_words=None, ngram_range=(1, 2), min_df=5, binary=True)\n",
    "unigram_bigram_sents_stem = unigram_bigram_sents_stem_v.fit_transform(sents)\n",
    "\n",
    "# unigram + bigram + lemmatization (first and last 3 sentences)\n",
    "unigram_bigram_sents_lemma_v = CountVectorizer(tokenizer=LemmaTokenizer(), stop_words=None, ngram_range=(1, 2), min_df=5, binary=True)\n",
    "unigram_bigram_sents_lemma = unigram_bigram_sents_lemma_v.fit_transform(sents)"
   ]
  },
  {
   "cell_type": "code",
   "execution_count": null,
   "metadata": {
    "collapsed": false
   },
   "outputs": [],
   "source": [
    "# Evaluate models with 10-fold cross validation\n",
    "\n",
    "logit = LogisticRegression()\n",
    "svm = SGDClassifier(loss='hinge', penalty='l2', alpha=1e-3, n_iter=400, random_state=1)\n",
    "labels = train['sentiment'].cat.codes\n",
    "\n",
    "matrices = [unigram_bigram, \n",
    "            unigram_bigram_noStopword, unigram_bigram_count, unigram_bigram_tfidf, \n",
    "            unigram_bigram_stem, unigram_bigram_lemma,\n",
    "            unigram_bigram_sents, unigram_bigram_sents_stem, unigram_bigram_sents_lemma]\n",
    "\n",
    "result = run_CV(matrices, labels, [logit,svm], 10)"
   ]
  },
  {
   "cell_type": "code",
   "execution_count": null,
   "metadata": {
    "collapsed": false
   },
   "outputs": [],
   "source": [
    "# Display results in dataframe and highlight the maximum in each column\n",
    "\n",
    "df = pd.DataFrame(result).transpose()\n",
    "df.columns = ['logit', 'svm']\n",
    "df.index = ['unigram_bigram', \n",
    "            'unigram_bigram_noStopword', 'unigram_bigram_count', 'unigram_bigram_tfidf', \n",
    "            'unigram_bigram_stem', 'unigram_bigram_lemma',\n",
    "            'unigram_bigram_sents', 'unigram_bigram_sents_stem', 'unigram_bigram_sents_lemma']\n",
    "\n",
    "df.style.apply(highlight_max)"
   ]
  },
  {
   "cell_type": "code",
   "execution_count": null,
   "metadata": {
    "collapsed": false
   },
   "outputs": [],
   "source": [
    "# Choose one model to examine the most predictive features per class\n",
    "\n",
    "def print_topN_features(vectorizer, model, class_labels, n):\n",
    "    \"\"\"\n",
    "    Print features with the highest coefficient values, per class\n",
    "    \"\"\"\n",
    "    feature_names = vectorizer.get_feature_names()\n",
    "    for i, class_label in enumerate(class_labels):\n",
    "        topN = np.argsort(model.coef_[i])[-n:]\n",
    "        print(\"%s: %s\" % (class_label,\", \".join(feature_names[j] for j in topN)))\n",
    "\n",
    "print_topN_features(unigram_bigram_stem_v, svm, ['neg', 'neu', 'pos'], 10)"
   ]
  },
  {
   "cell_type": "code",
   "execution_count": null,
   "metadata": {
    "collapsed": true
   },
   "outputs": [],
   "source": []
  },
  {
   "cell_type": "code",
   "execution_count": null,
   "metadata": {
    "collapsed": true
   },
   "outputs": [],
   "source": []
  },
  {
   "cell_type": "markdown",
   "metadata": {},
   "source": [
    "## Experiment with additional negative examples"
   ]
  },
  {
   "cell_type": "markdown",
   "metadata": {},
   "source": [
    "### Load and slice data into train and test sets"
   ]
  },
  {
   "cell_type": "code",
   "execution_count": 14,
   "metadata": {
    "collapsed": false,
    "scrolled": true
   },
   "outputs": [
    {
     "name": "stdout",
     "output_type": "stream",
     "text": [
      "# labelled comments: 3000\n",
      "# additional comments: 420\n"
     ]
    }
   ],
   "source": [
    "# Load in data\n",
    "\n",
    "labelled = pd.read_csv(\"data/comments-merged.csv\", usecols=['document_id', 'comment', 'sentiment']).dropna()\n",
    "labelled['comment'] = labelled['comment'].map(lambda x: re.sub(\"\\r\", \" \", x))\n",
    "\n",
    "additional = pd.read_csv(\"data/relabelled.csv\", usecols=['document_id', 'comment', 'Actual']).dropna()\n",
    "additional.columns = ['document_id', 'comment', 'sentiment']\n",
    "additional['comment'] = additional['comment'].map(lambda x: re.sub(\"\\r\", \" \", x))\n",
    "additional = additional.replace({'sentiment': {'Positive': 'pos', 'Neutral': 'neu', 'Negative': 'neg'}})\n",
    "\n",
    "print(\"# labelled comments:\", labelled.shape[0])\n",
    "print(\"# additional comments:\", additional.shape[0])"
   ]
  },
  {
   "cell_type": "code",
   "execution_count": 15,
   "metadata": {
    "collapsed": false,
    "scrolled": false
   },
   "outputs": [],
   "source": [
    "# Prepare datasets for training and testing\n",
    "# Approach 1: use a subset of 3000 labelled data as test set\n",
    "\n",
    "# divide into training set (control group) and test set \n",
    "control_train, exp_test = np.split(labelled.sample(frac=1), [int(.6*len(labelled))])\n",
    "\n",
    "# add additional examples to the control group to form treatment group\n",
    "treatment_train = control_train.append(additional, ignore_index=True)"
   ]
  },
  {
   "cell_type": "code",
   "execution_count": null,
   "metadata": {
    "collapsed": false
   },
   "outputs": [],
   "source": [
    "# # Approach 2: use CWP samples as test set\n",
    "\n",
    "# cwp = pd.read_csv(\"data/cwp-sample.csv\", usecols=['ID', 'comment', 'Sentiment']).dropna()\n",
    "# cwp.columns = ['document_id', 'comment', 'sentiment']\n",
    "# cwp['comment'] = cwp['comment'].map(lambda x: re.sub(\"\\r\", \" \", x))\n",
    "# cwp = cwp.replace({'sentiment': {'Positive': 'pos', 'Neutral': 'neu', 'Negative': 'neg'}})\n",
    "\n",
    "# cwp['sentences'] = cwp['comment'].map(lambda x: split_into_sentences(x))\n",
    "# cwp = cwp[cwp['sentences'].map(hasContent)]\n",
    "# cwp['first_two_sents'] = cwp['sentences'].map(lambda x: \" \".join([\" \".join(tokenize(sent,2)) for sent in x[:2]]))\n",
    "# exp_test = cwp.drop_duplicates(subset=['first_two_sents'])[['document_id', 'comment', 'sentiment']]\n",
    "\n",
    "\n",
    "# # use current labelled data as train set for the control group\n",
    "# control_train = labelled\n",
    "\n",
    "# # add additional examples to the control group to form treatment group\n",
    "# treatment_train = control_train.append(additional, ignore_index=True)"
   ]
  },
  {
   "cell_type": "code",
   "execution_count": 16,
   "metadata": {
    "collapsed": true
   },
   "outputs": [],
   "source": [
    "# Drop duplicates \n",
    "\n",
    "# based on document id \n",
    "treatment_train = treatment_train.drop_duplicates(subset=['document_id'])\n",
    "\n",
    "# based on first two sentences of comment texts\n",
    "treatment_train['sentences'] = treatment_train['comment'].map(lambda x: split_into_sentences(x))\n",
    "treatment_train = treatment_train[treatment_train['sentences'].map(hasContent)]\n",
    "treatment_train['first_two_sents'] = treatment_train['sentences'].map(lambda x: \" \".join([\" \".join(tokenize(sent,2)) for sent in x[:2]]))\n",
    "treatment_train = treatment_train.drop_duplicates(subset=['first_two_sents'])\n",
    "treatment_train = treatment_train[['document_id', 'comment', 'sentiment']]"
   ]
  },
  {
   "cell_type": "code",
   "execution_count": 17,
   "metadata": {
    "collapsed": false
   },
   "outputs": [
    {
     "name": "stdout",
     "output_type": "stream",
     "text": [
      "# trainging instances in control group: 1800\n",
      "# trainging instances in treatment group: 2191\n",
      "# testing instances: 1200\n"
     ]
    }
   ],
   "source": [
    "# Change the data type of sentiment column\n",
    "\n",
    "control_train['sentiment'] = control_train['sentiment'].astype('category')\n",
    "treatment_train['sentiment'] = treatment_train['sentiment'].astype('category')\n",
    "exp_test['sentiment'] = exp_test['sentiment'].astype('category')\n",
    "\n",
    "print(\"# trainging instances in control group:\", control_train.shape[0])\n",
    "print(\"# trainging instances in treatment group:\", treatment_train.shape[0])\n",
    "print(\"# testing instances:\", exp_test.shape[0])"
   ]
  },
  {
   "cell_type": "code",
   "execution_count": null,
   "metadata": {
    "collapsed": false
   },
   "outputs": [],
   "source": [
    "control_train.sentiment.value_counts()"
   ]
  },
  {
   "cell_type": "code",
   "execution_count": null,
   "metadata": {
    "collapsed": false
   },
   "outputs": [],
   "source": [
    "treatment_train.sentiment.value_counts()"
   ]
  },
  {
   "cell_type": "code",
   "execution_count": 21,
   "metadata": {
    "collapsed": true
   },
   "outputs": [],
   "source": [
    "# (Optional) Write to file\n",
    "\n",
    "control_train.to_csv('data/control_train.csv', index=False)\n",
    "treatment_train.to_csv('data/treatment_train.csv', index=False)\n",
    "exp_test.to_csv('data/exp_test.csv', index=False)"
   ]
  },
  {
   "cell_type": "markdown",
   "metadata": {},
   "source": [
    "### Extract features"
   ]
  },
  {
   "cell_type": "code",
   "execution_count": 18,
   "metadata": {
    "collapsed": false,
    "scrolled": true
   },
   "outputs": [],
   "source": [
    "# Initialize vectorizers\n",
    "\n",
    "# baseline: unigram + bigram (binary)\n",
    "unigram_bigram_v = CountVectorizer(stop_words=None, ngram_range=(1, 2), min_df=5, binary=True)\n",
    "\n",
    "# unigram + bigram + stopwords removal\n",
    "unigram_bigram_noStopword_v = CountVectorizer(stop_words='english', ngram_range=(1, 2), min_df=5, binary=True)\n",
    "\n",
    "# unigram + bigram (count)\n",
    "unigram_bigram_count_v = CountVectorizer(stop_words=None, ngram_range=(1, 2), min_df=5, binary=False)\n",
    "\n",
    "# unigram + bigram (tf-idf)\n",
    "unigram_bigram_tfidf_v = TfidfVectorizer(stop_words=None, ngram_range=(1, 2), min_df=5, binary=False)\n",
    "\n",
    "# unigram + bigram + stemming\n",
    "unigram_bigram_stem_v = CountVectorizer(tokenizer=PorterStemmerTokenizer(), stop_words=None, ngram_range=(1, 2), min_df=5, binary=True)\n",
    "\n",
    "# unigram + bigram + lemmatization\n",
    "unigram_bigram_lemma_v = CountVectorizer(tokenizer=LemmaTokenizer(), stop_words=None, ngram_range=(1, 2), min_df=5, binary=True)"
   ]
  },
  {
   "cell_type": "markdown",
   "metadata": {},
   "source": [
    "### Evaluate models and display results"
   ]
  },
  {
   "cell_type": "code",
   "execution_count": 19,
   "metadata": {
    "collapsed": false
   },
   "outputs": [
    {
     "name": "stdout",
     "output_type": "stream",
     "text": [
      "[0.652994873077404, 0.61223203026481721, 0.64842376655338096, 0.15074309978768574, 0.65952080706179061, 0.60148777895855465]\n",
      "[0.70873786407766981, 0.70399188092016241, 0.66423737636647573, 0.49693788276465445, 0.68896214376860909, 0.67162872154115583]\n",
      "[0.71538930676966861, 0.62840794345338269, 0.70987198737688639, 0.39591078066914498, 0.70886304085621998, 0.69109039670496419]\n",
      "[0.7094468020032878, 0.64848376784645367, 0.6708564886588595, 0.62806594290309614, 0.66347134407505615, 0.63046128183742867]\n"
     ]
    }
   ],
   "source": [
    "# Evaluate models on the test set\n",
    "\n",
    "vectorizers = [unigram_bigram_v, \n",
    "               unigram_bigram_noStopword_v, unigram_bigram_count_v, unigram_bigram_tfidf_v, \n",
    "               unigram_bigram_stem_v, unigram_bigram_lemma_v]\n",
    "\n",
    "logit = LogisticRegression()\n",
    "logit_control = evaluate_on_test_set(vectorizers, logit, control_train, exp_test)\n",
    "logit_treatment = evaluate_on_test_set(vectorizers, logit, treatment_train, exp_test)\n",
    "\n",
    "svm = SGDClassifier(loss='hinge', penalty='l2', alpha=1e-3, n_iter=400, random_state=1)\n",
    "svm_control = evaluate_on_test_set(vectorizers, svm, control_train, exp_test)\n",
    "svm_treatment = evaluate_on_test_set(vectorizers, svm, treatment_train, exp_test)"
   ]
  },
  {
   "cell_type": "code",
   "execution_count": 20,
   "metadata": {
    "collapsed": false
   },
   "outputs": [
    {
     "data": {
      "text/html": [
       "\n",
       "        <style  type=\"text/css\" >\n",
       "        \n",
       "        \n",
       "            #T_578cfd0c_5ea7_11e7_bd24_f45c89b9175drow0_col1 {\n",
       "            \n",
       "                background-color:  yellow;\n",
       "            \n",
       "            }\n",
       "        \n",
       "            #T_578cfd0c_5ea7_11e7_bd24_f45c89b9175drow0_col2 {\n",
       "            \n",
       "                background-color:  yellow;\n",
       "            \n",
       "            }\n",
       "        \n",
       "            #T_578cfd0c_5ea7_11e7_bd24_f45c89b9175drow0_col3 {\n",
       "            \n",
       "                background-color:  yellow;\n",
       "            \n",
       "            }\n",
       "        \n",
       "            #T_578cfd0c_5ea7_11e7_bd24_f45c89b9175drow4_col0 {\n",
       "            \n",
       "                background-color:  yellow;\n",
       "            \n",
       "            }\n",
       "        \n",
       "        </style>\n",
       "\n",
       "        <table id=\"T_578cfd0c_5ea7_11e7_bd24_f45c89b9175d\" None>\n",
       "        \n",
       "\n",
       "        <thead>\n",
       "            \n",
       "            <tr>\n",
       "                \n",
       "                <th class=\"blank\">\n",
       "                \n",
       "                <th class=\"col_heading level0 col0\">logit_control\n",
       "                \n",
       "                <th class=\"col_heading level0 col1\">logit_treatment\n",
       "                \n",
       "                <th class=\"col_heading level0 col2\">svm_control\n",
       "                \n",
       "                <th class=\"col_heading level0 col3\">svm_treatment\n",
       "                \n",
       "            </tr>\n",
       "            \n",
       "        </thead>\n",
       "        <tbody>\n",
       "            \n",
       "            <tr>\n",
       "                \n",
       "                <th id=\"T_578cfd0c_5ea7_11e7_bd24_f45c89b9175d\" class=\"row_heading level3 row0\">\n",
       "                    unigram_bigram\n",
       "                \n",
       "                <td id=\"T_578cfd0c_5ea7_11e7_bd24_f45c89b9175drow0_col0\" class=\"data row0 col0\">\n",
       "                    0.652995\n",
       "                \n",
       "                <td id=\"T_578cfd0c_5ea7_11e7_bd24_f45c89b9175drow0_col1\" class=\"data row0 col1\">\n",
       "                    0.708738\n",
       "                \n",
       "                <td id=\"T_578cfd0c_5ea7_11e7_bd24_f45c89b9175drow0_col2\" class=\"data row0 col2\">\n",
       "                    0.715389\n",
       "                \n",
       "                <td id=\"T_578cfd0c_5ea7_11e7_bd24_f45c89b9175drow0_col3\" class=\"data row0 col3\">\n",
       "                    0.709447\n",
       "                \n",
       "            </tr>\n",
       "            \n",
       "            <tr>\n",
       "                \n",
       "                <th id=\"T_578cfd0c_5ea7_11e7_bd24_f45c89b9175d\" class=\"row_heading level3 row1\">\n",
       "                    unigram_bigram_noStopword\n",
       "                \n",
       "                <td id=\"T_578cfd0c_5ea7_11e7_bd24_f45c89b9175drow1_col0\" class=\"data row1 col0\">\n",
       "                    0.612232\n",
       "                \n",
       "                <td id=\"T_578cfd0c_5ea7_11e7_bd24_f45c89b9175drow1_col1\" class=\"data row1 col1\">\n",
       "                    0.703992\n",
       "                \n",
       "                <td id=\"T_578cfd0c_5ea7_11e7_bd24_f45c89b9175drow1_col2\" class=\"data row1 col2\">\n",
       "                    0.628408\n",
       "                \n",
       "                <td id=\"T_578cfd0c_5ea7_11e7_bd24_f45c89b9175drow1_col3\" class=\"data row1 col3\">\n",
       "                    0.648484\n",
       "                \n",
       "            </tr>\n",
       "            \n",
       "            <tr>\n",
       "                \n",
       "                <th id=\"T_578cfd0c_5ea7_11e7_bd24_f45c89b9175d\" class=\"row_heading level3 row2\">\n",
       "                    unigram_bigram_count\n",
       "                \n",
       "                <td id=\"T_578cfd0c_5ea7_11e7_bd24_f45c89b9175drow2_col0\" class=\"data row2 col0\">\n",
       "                    0.648424\n",
       "                \n",
       "                <td id=\"T_578cfd0c_5ea7_11e7_bd24_f45c89b9175drow2_col1\" class=\"data row2 col1\">\n",
       "                    0.664237\n",
       "                \n",
       "                <td id=\"T_578cfd0c_5ea7_11e7_bd24_f45c89b9175drow2_col2\" class=\"data row2 col2\">\n",
       "                    0.709872\n",
       "                \n",
       "                <td id=\"T_578cfd0c_5ea7_11e7_bd24_f45c89b9175drow2_col3\" class=\"data row2 col3\">\n",
       "                    0.670856\n",
       "                \n",
       "            </tr>\n",
       "            \n",
       "            <tr>\n",
       "                \n",
       "                <th id=\"T_578cfd0c_5ea7_11e7_bd24_f45c89b9175d\" class=\"row_heading level3 row3\">\n",
       "                    unigram_bigram_tfidf\n",
       "                \n",
       "                <td id=\"T_578cfd0c_5ea7_11e7_bd24_f45c89b9175drow3_col0\" class=\"data row3 col0\">\n",
       "                    0.150743\n",
       "                \n",
       "                <td id=\"T_578cfd0c_5ea7_11e7_bd24_f45c89b9175drow3_col1\" class=\"data row3 col1\">\n",
       "                    0.496938\n",
       "                \n",
       "                <td id=\"T_578cfd0c_5ea7_11e7_bd24_f45c89b9175drow3_col2\" class=\"data row3 col2\">\n",
       "                    0.395911\n",
       "                \n",
       "                <td id=\"T_578cfd0c_5ea7_11e7_bd24_f45c89b9175drow3_col3\" class=\"data row3 col3\">\n",
       "                    0.628066\n",
       "                \n",
       "            </tr>\n",
       "            \n",
       "            <tr>\n",
       "                \n",
       "                <th id=\"T_578cfd0c_5ea7_11e7_bd24_f45c89b9175d\" class=\"row_heading level3 row4\">\n",
       "                    unigram_bigram_stem\n",
       "                \n",
       "                <td id=\"T_578cfd0c_5ea7_11e7_bd24_f45c89b9175drow4_col0\" class=\"data row4 col0\">\n",
       "                    0.659521\n",
       "                \n",
       "                <td id=\"T_578cfd0c_5ea7_11e7_bd24_f45c89b9175drow4_col1\" class=\"data row4 col1\">\n",
       "                    0.688962\n",
       "                \n",
       "                <td id=\"T_578cfd0c_5ea7_11e7_bd24_f45c89b9175drow4_col2\" class=\"data row4 col2\">\n",
       "                    0.708863\n",
       "                \n",
       "                <td id=\"T_578cfd0c_5ea7_11e7_bd24_f45c89b9175drow4_col3\" class=\"data row4 col3\">\n",
       "                    0.663471\n",
       "                \n",
       "            </tr>\n",
       "            \n",
       "            <tr>\n",
       "                \n",
       "                <th id=\"T_578cfd0c_5ea7_11e7_bd24_f45c89b9175d\" class=\"row_heading level3 row5\">\n",
       "                    unigram_bigram_lemma\n",
       "                \n",
       "                <td id=\"T_578cfd0c_5ea7_11e7_bd24_f45c89b9175drow5_col0\" class=\"data row5 col0\">\n",
       "                    0.601488\n",
       "                \n",
       "                <td id=\"T_578cfd0c_5ea7_11e7_bd24_f45c89b9175drow5_col1\" class=\"data row5 col1\">\n",
       "                    0.671629\n",
       "                \n",
       "                <td id=\"T_578cfd0c_5ea7_11e7_bd24_f45c89b9175drow5_col2\" class=\"data row5 col2\">\n",
       "                    0.69109\n",
       "                \n",
       "                <td id=\"T_578cfd0c_5ea7_11e7_bd24_f45c89b9175drow5_col3\" class=\"data row5 col3\">\n",
       "                    0.630461\n",
       "                \n",
       "            </tr>\n",
       "            \n",
       "        </tbody>\n",
       "        </table>\n",
       "        "
      ],
      "text/plain": [
       "<pandas.formats.style.Styler at 0x1040eae48>"
      ]
     },
     "execution_count": 20,
     "metadata": {},
     "output_type": "execute_result"
    }
   ],
   "source": [
    "# Display results in dataframe and highlight the maximum in each column\n",
    "\n",
    "df = pd.DataFrame([logit_control, logit_treatment, svm_control, svm_treatment]).transpose()\n",
    "df.columns = ['logit_control', 'logit_treatment', 'svm_control', 'svm_treatment']\n",
    "df.index = ['unigram_bigram', \n",
    "            'unigram_bigram_noStopword', 'unigram_bigram_count', 'unigram_bigram_tfidf', \n",
    "            'unigram_bigram_stem', 'unigram_bigram_lemma']\n",
    "\n",
    "df.style.apply(highlight_max)"
   ]
  },
  {
   "cell_type": "markdown",
   "metadata": {
    "collapsed": true
   },
   "source": [
    "The results are very different each time. The additional ~400 negative examples seem to improve the performace in general but the best classifier does not always need them. Again the improvement is not consistent enough to be conclusive. \n",
    "\n",
    "If we adopt the second approach of using CWP samples as the test set, kappa boosts significantly (~0.97). I think that's an over-estimate because random sampling contains lots of template comments which are relatively easy to classify and less meaningful."
   ]
  },
  {
   "cell_type": "code",
   "execution_count": null,
   "metadata": {
    "collapsed": true
   },
   "outputs": [],
   "source": []
  },
  {
   "cell_type": "code",
   "execution_count": null,
   "metadata": {
    "collapsed": true
   },
   "outputs": [],
   "source": []
  },
  {
   "cell_type": "code",
   "execution_count": null,
   "metadata": {
    "collapsed": true
   },
   "outputs": [],
   "source": []
  },
  {
   "cell_type": "markdown",
   "metadata": {
    "collapsed": true
   },
   "source": [
    "## Optimize\n",
    "- introduce additional features\n",
    "- adjust class weights\n",
    "- tune parameter using grid search"
   ]
  },
  {
   "cell_type": "code",
   "execution_count": null,
   "metadata": {
    "collapsed": true
   },
   "outputs": [],
   "source": []
  }
 ],
 "metadata": {
  "anaconda-cloud": {},
  "kernelspec": {
   "display_name": "Python [Root]",
   "language": "python",
   "name": "Python [Root]"
  },
  "language_info": {
   "codemirror_mode": {
    "name": "ipython",
    "version": 3
   },
   "file_extension": ".py",
   "mimetype": "text/x-python",
   "name": "python",
   "nbconvert_exporter": "python",
   "pygments_lexer": "ipython3",
   "version": "3.5.2"
  }
 },
 "nbformat": 4,
 "nbformat_minor": 0
}
