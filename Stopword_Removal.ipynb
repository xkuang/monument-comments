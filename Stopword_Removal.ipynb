{
 "cells": [
  {
   "cell_type": "code",
   "execution_count": 122,
   "metadata": {
    "collapsed": true
   },
   "outputs": [],
   "source": [
    "# Required imports\n",
    "import nltk\n",
    "import pandas\n",
    "from nltk.corpus import stopwords\n",
    "from six import iteritems\n",
    "from gensim import corpora"
   ]
  },
  {
   "cell_type": "code",
   "execution_count": 123,
   "metadata": {
    "collapsed": true
   },
   "outputs": [],
   "source": [
    "# Load in the data from CSV\n",
    "allComments = pandas.read_csv(\"./data/comments.csv\")"
   ]
  },
  {
   "cell_type": "code",
   "execution_count": 124,
   "metadata": {},
   "outputs": [
    {
     "data": {
      "text/html": [
       "<div>\n",
       "<style>\n",
       "    .dataframe thead tr:only-child th {\n",
       "        text-align: right;\n",
       "    }\n",
       "\n",
       "    .dataframe thead th {\n",
       "        text-align: left;\n",
       "    }\n",
       "\n",
       "    .dataframe tbody tr th {\n",
       "        vertical-align: top;\n",
       "    }\n",
       "</style>\n",
       "<table border=\"1\" class=\"dataframe\">\n",
       "  <thead>\n",
       "    <tr style=\"text-align: right;\">\n",
       "      <th></th>\n",
       "      <th>document_id</th>\n",
       "      <th>tracking_number</th>\n",
       "      <th>date_posted</th>\n",
       "      <th>retrieved</th>\n",
       "      <th>has_attachments</th>\n",
       "      <th>comment</th>\n",
       "      <th>document_url</th>\n",
       "    </tr>\n",
       "  </thead>\n",
       "  <tbody>\n",
       "    <tr>\n",
       "      <th>0</th>\n",
       "      <td>DOI-2017-0002-0002</td>\n",
       "      <td>1k1-8wbs-ucnh</td>\n",
       "      <td>2017-05-11</td>\n",
       "      <td>2017-05-27 01:43:49.443154</td>\n",
       "      <td>False</td>\n",
       "      <td>Our national monuments are a national treasure...</td>\n",
       "      <td>https://www.regulations.gov/document?D=DOI-201...</td>\n",
       "    </tr>\n",
       "    <tr>\n",
       "      <th>1</th>\n",
       "      <td>DOI-2017-0002-0003</td>\n",
       "      <td>1k1-8wbs-1cws</td>\n",
       "      <td>2017-05-11</td>\n",
       "      <td>2017-05-26 21:35:25.550530</td>\n",
       "      <td>False</td>\n",
       "      <td>1.We do not want National Monument protection ...</td>\n",
       "      <td>https://www.regulations.gov/document?D=DOI-201...</td>\n",
       "    </tr>\n",
       "    <tr>\n",
       "      <th>2</th>\n",
       "      <td>DOI-2017-0002-0004</td>\n",
       "      <td>1k1-8wbs-oj39</td>\n",
       "      <td>2017-05-11</td>\n",
       "      <td>2017-05-30 10:14:25.162305</td>\n",
       "      <td>False</td>\n",
       "      <td>The monuments must be preserved. the precedent...</td>\n",
       "      <td>https://www.regulations.gov/document?D=DOI-201...</td>\n",
       "    </tr>\n",
       "    <tr>\n",
       "      <th>3</th>\n",
       "      <td>DOI-2017-0002-0005</td>\n",
       "      <td>1k1-8wbs-9rjp</td>\n",
       "      <td>2017-05-11</td>\n",
       "      <td>2017-05-30 10:14:31.861017</td>\n",
       "      <td>False</td>\n",
       "      <td>My name is Ryan Erik Benally and I'm from Mont...</td>\n",
       "      <td>https://www.regulations.gov/document?D=DOI-201...</td>\n",
       "    </tr>\n",
       "    <tr>\n",
       "      <th>4</th>\n",
       "      <td>DOI-2017-0002-0006</td>\n",
       "      <td>1k1-8wbs-umhr</td>\n",
       "      <td>2017-05-11</td>\n",
       "      <td>2017-05-27 04:10:25.339717</td>\n",
       "      <td>False</td>\n",
       "      <td>all protections and preservations for the enti...</td>\n",
       "      <td>https://www.regulations.gov/document?D=DOI-201...</td>\n",
       "    </tr>\n",
       "  </tbody>\n",
       "</table>\n",
       "</div>"
      ],
      "text/plain": [
       "          document_id tracking_number date_posted                   retrieved  \\\n",
       "0  DOI-2017-0002-0002   1k1-8wbs-ucnh  2017-05-11  2017-05-27 01:43:49.443154   \n",
       "1  DOI-2017-0002-0003   1k1-8wbs-1cws  2017-05-11  2017-05-26 21:35:25.550530   \n",
       "2  DOI-2017-0002-0004   1k1-8wbs-oj39  2017-05-11  2017-05-30 10:14:25.162305   \n",
       "3  DOI-2017-0002-0005   1k1-8wbs-9rjp  2017-05-11  2017-05-30 10:14:31.861017   \n",
       "4  DOI-2017-0002-0006   1k1-8wbs-umhr  2017-05-11  2017-05-27 04:10:25.339717   \n",
       "\n",
       "   has_attachments                                            comment  \\\n",
       "0            False  Our national monuments are a national treasure...   \n",
       "1            False  1.We do not want National Monument protection ...   \n",
       "2            False  The monuments must be preserved. the precedent...   \n",
       "3            False  My name is Ryan Erik Benally and I'm from Mont...   \n",
       "4            False  all protections and preservations for the enti...   \n",
       "\n",
       "                                        document_url  \n",
       "0  https://www.regulations.gov/document?D=DOI-201...  \n",
       "1  https://www.regulations.gov/document?D=DOI-201...  \n",
       "2  https://www.regulations.gov/document?D=DOI-201...  \n",
       "3  https://www.regulations.gov/document?D=DOI-201...  \n",
       "4  https://www.regulations.gov/document?D=DOI-201...  "
      ]
     },
     "execution_count": 124,
     "metadata": {},
     "output_type": "execute_result"
    }
   ],
   "source": [
    "# What did we read in?\n",
    "allComments.head()\n"
   ]
  },
  {
   "cell_type": "code",
   "execution_count": 125,
   "metadata": {},
   "outputs": [
    {
     "data": {
      "text/plain": [
       "document_id        object\n",
       "tracking_number    object\n",
       "date_posted        object\n",
       "retrieved          object\n",
       "has_attachments      bool\n",
       "comment            object\n",
       "document_url       object\n",
       "dtype: object"
      ]
     },
     "execution_count": 125,
     "metadata": {},
     "output_type": "execute_result"
    }
   ],
   "source": [
    "# Convert comment field to string.\n",
    "allComments['comment'].astype('str')\n",
    "allComments.dtypes"
   ]
  },
  {
   "cell_type": "code",
   "execution_count": 126,
   "metadata": {},
   "outputs": [
    {
     "data": {
      "text/html": [
       "<div>\n",
       "<style>\n",
       "    .dataframe thead tr:only-child th {\n",
       "        text-align: right;\n",
       "    }\n",
       "\n",
       "    .dataframe thead th {\n",
       "        text-align: left;\n",
       "    }\n",
       "\n",
       "    .dataframe tbody tr th {\n",
       "        vertical-align: top;\n",
       "    }\n",
       "</style>\n",
       "<table border=\"1\" class=\"dataframe\">\n",
       "  <thead>\n",
       "    <tr style=\"text-align: right;\">\n",
       "      <th></th>\n",
       "      <th>document_id</th>\n",
       "      <th>tracking_number</th>\n",
       "      <th>date_posted</th>\n",
       "      <th>retrieved</th>\n",
       "      <th>has_attachments</th>\n",
       "      <th>comment</th>\n",
       "      <th>document_url</th>\n",
       "    </tr>\n",
       "  </thead>\n",
       "  <tbody>\n",
       "    <tr>\n",
       "      <th>137686</th>\n",
       "      <td>DOI-2017-0002-87304</td>\n",
       "      <td>1k1-8wl4-6wcj</td>\n",
       "      <td>2017-05-25</td>\n",
       "      <td>2017-05-27 08:18:56.524964</td>\n",
       "      <td>False</td>\n",
       "      <td>Dear Secretary Ryan Zinke,\\nBears Ears Nationa...</td>\n",
       "      <td>https://www.regulations.gov/document?D=DOI-201...</td>\n",
       "    </tr>\n",
       "    <tr>\n",
       "      <th>34840</th>\n",
       "      <td>DOI-2017-0002-131487</td>\n",
       "      <td>1k1-8wqr-8s1y</td>\n",
       "      <td>2017-06-03</td>\n",
       "      <td>2017-06-07 20:41:17.417558</td>\n",
       "      <td>False</td>\n",
       "      <td>Please all empowered to do so protect our Nati...</td>\n",
       "      <td>https://www.regulations.gov/document?D=DOI-201...</td>\n",
       "    </tr>\n",
       "    <tr>\n",
       "      <th>45928</th>\n",
       "      <td>DOI-2017-0002-14353</td>\n",
       "      <td>1k1-8wen-nggi</td>\n",
       "      <td>2017-05-16</td>\n",
       "      <td>2017-05-27 04:12:16.929094</td>\n",
       "      <td>False</td>\n",
       "      <td>Administrations in the past have done their be...</td>\n",
       "      <td>https://www.regulations.gov/document?D=DOI-201...</td>\n",
       "    </tr>\n",
       "    <tr>\n",
       "      <th>41399</th>\n",
       "      <td>DOI-2017-0002-137903</td>\n",
       "      <td>1k1-8wts-d8i5</td>\n",
       "      <td>2017-06-07</td>\n",
       "      <td>2017-06-07 19:15:40.769942</td>\n",
       "      <td>False</td>\n",
       "      <td>Dear Ryan Zinke,\\n\\nOur national monuments and...</td>\n",
       "      <td>https://www.regulations.gov/document?D=DOI-201...</td>\n",
       "    </tr>\n",
       "    <tr>\n",
       "      <th>114065</th>\n",
       "      <td>DOI-2017-0002-65813</td>\n",
       "      <td>1k1-8wj8-wios</td>\n",
       "      <td>2017-05-23</td>\n",
       "      <td>2017-05-27 13:19:15.538264</td>\n",
       "      <td>False</td>\n",
       "      <td>Dear Secretary Ryan Zinke,\\n\\nAs a supporter o...</td>\n",
       "      <td>https://www.regulations.gov/document?D=DOI-201...</td>\n",
       "    </tr>\n",
       "  </tbody>\n",
       "</table>\n",
       "</div>"
      ],
      "text/plain": [
       "                 document_id tracking_number date_posted  \\\n",
       "137686   DOI-2017-0002-87304   1k1-8wl4-6wcj  2017-05-25   \n",
       "34840   DOI-2017-0002-131487   1k1-8wqr-8s1y  2017-06-03   \n",
       "45928    DOI-2017-0002-14353   1k1-8wen-nggi  2017-05-16   \n",
       "41399   DOI-2017-0002-137903   1k1-8wts-d8i5  2017-06-07   \n",
       "114065   DOI-2017-0002-65813   1k1-8wj8-wios  2017-05-23   \n",
       "\n",
       "                         retrieved  has_attachments  \\\n",
       "137686  2017-05-27 08:18:56.524964            False   \n",
       "34840   2017-06-07 20:41:17.417558            False   \n",
       "45928   2017-05-27 04:12:16.929094            False   \n",
       "41399   2017-06-07 19:15:40.769942            False   \n",
       "114065  2017-05-27 13:19:15.538264            False   \n",
       "\n",
       "                                                  comment  \\\n",
       "137686  Dear Secretary Ryan Zinke,\\nBears Ears Nationa...   \n",
       "34840   Please all empowered to do so protect our Nati...   \n",
       "45928   Administrations in the past have done their be...   \n",
       "41399   Dear Ryan Zinke,\\n\\nOur national monuments and...   \n",
       "114065  Dear Secretary Ryan Zinke,\\n\\nAs a supporter o...   \n",
       "\n",
       "                                             document_url  \n",
       "137686  https://www.regulations.gov/document?D=DOI-201...  \n",
       "34840   https://www.regulations.gov/document?D=DOI-201...  \n",
       "45928   https://www.regulations.gov/document?D=DOI-201...  \n",
       "41399   https://www.regulations.gov/document?D=DOI-201...  \n",
       "114065  https://www.regulations.gov/document?D=DOI-201...  "
      ]
     },
     "execution_count": 126,
     "metadata": {},
     "output_type": "execute_result"
    }
   ],
   "source": [
    "# Sample (scalable development)\n",
    "someComments = allComments.sample(n=10)\n",
    "# someComments = allComments\n",
    "someComments.head()"
   ]
  },
  {
   "cell_type": "code",
   "execution_count": 127,
   "metadata": {},
   "outputs": [
    {
     "data": {
      "text/plain": [
       "137686    [Dear, Secretary, Ryan, Zinke, ,, Bears, Ears,...\n",
       "34840     [Please, all, empowered, to, do, so, protect, ...\n",
       "45928     [Administrations, in, the, past, have, done, t...\n",
       "41399     [Dear, Ryan, Zinke, ,, Our, national, monument...\n",
       "114065    [Dear, Secretary, Ryan, Zinke, ,, As, a, suppo...\n",
       "Name: comment, dtype: object"
      ]
     },
     "execution_count": 127,
     "metadata": {},
     "output_type": "execute_result"
    }
   ],
   "source": [
    "# First, tokenize\n",
    "tokenized_someComments = someComments.comment.apply(nltk.word_tokenize)\n",
    "tokenized_someComments.head()"
   ]
  },
  {
   "cell_type": "code",
   "execution_count": 128,
   "metadata": {},
   "outputs": [
    {
     "data": {
      "text/plain": [
       "137686    [dear, secretary, ryan, zinke, bears, ears, na...\n",
       "34840     [please, all, empowered, to, do, so, protect, ...\n",
       "45928     [administrations, in, the, past, have, done, t...\n",
       "41399     [dear, ryan, zinke, our, national, monuments, ...\n",
       "114065    [dear, secretary, ryan, zinke, as, supporter, ...\n",
       "Name: comment, dtype: object"
      ]
     },
     "execution_count": 128,
     "metadata": {},
     "output_type": "execute_result"
    }
   ],
   "source": [
    "# Let's start with a small stopword list\n",
    "stop = set(('and', 'or', 'not'))\n",
    "tokenized_someComments = tokenized_someComments.apply(lambda x: [item.lower() for item in x if item not in stop and len(item) > 1])\n",
    "tokenized_someComments.head()"
   ]
  },
  {
   "cell_type": "code",
   "execution_count": 129,
   "metadata": {},
   "outputs": [
    {
     "data": {
      "text/plain": [
       "137686    [dear, secretari, ryan, zink, bear, ear, natio...\n",
       "34840     [pleas, all, empow, to, do, so, protect, our, ...\n",
       "45928     [administr, in, the, past, have, done, their, ...\n",
       "41399     [dear, ryan, zink, our, nation, monument, publ...\n",
       "114065    [dear, secretari, ryan, zink, as, support, of,...\n",
       "Name: comment, dtype: object"
      ]
     },
     "execution_count": 129,
     "metadata": {},
     "output_type": "execute_result"
    }
   ],
   "source": [
    "# Stemming\n",
    "porterStemmer = nltk.stem.porter.PorterStemmer()\n",
    "stemmed_someComments = tokenized_someComments.apply(lambda x: [porterStemmer.stem(x) for x in x])\n",
    "stemmed_someComments.head()"
   ]
  },
  {
   "cell_type": "code",
   "execution_count": 130,
   "metadata": {},
   "outputs": [
    {
     "data": {
      "text/plain": [
       "137686    [dear, secretary, ryan, zinke, bear, ear, nati...\n",
       "34840     [please, all, empowered, to, do, so, protect, ...\n",
       "45928     [administration, in, the, past, have, done, th...\n",
       "41399     [dear, ryan, zinke, our, national, monument, p...\n",
       "114065    [dear, secretary, ryan, zinke, a, supporter, o...\n",
       "Name: comment, dtype: object"
      ]
     },
     "execution_count": 130,
     "metadata": {},
     "output_type": "execute_result"
    }
   ],
   "source": [
    "# Lemmatization\n",
    "wordnet_lemmatizer = nltk.stem.WordNetLemmatizer()\n",
    "lemmatized_someComments = tokenized_someComments.apply(lambda x: [wordnet_lemmatizer.lemmatize(x) for x in x])\n",
    "lemmatized_someComments.head()"
   ]
  },
  {
   "cell_type": "code",
   "execution_count": 131,
   "metadata": {},
   "outputs": [
    {
     "ename": "FileNotFoundError",
     "evalue": "[Errno 2] No such file or directory: 'datasets/sample_corpus.txt'",
     "output_type": "error",
     "traceback": [
      "\u001b[0;31m---------------------------------------------------------------------------\u001b[0m",
      "\u001b[0;31mFileNotFoundError\u001b[0m                         Traceback (most recent call last)",
      "\u001b[0;32m<ipython-input-131-a073cd604ce2>\u001b[0m in \u001b[0;36m<module>\u001b[0;34m()\u001b[0m\n\u001b[1;32m      1\u001b[0m \u001b[0;31m# collect statistics about all tokens\u001b[0m\u001b[0;34m\u001b[0m\u001b[0;34m\u001b[0m\u001b[0m\n\u001b[0;32m----> 2\u001b[0;31m \u001b[0mdictionary\u001b[0m \u001b[0;34m=\u001b[0m \u001b[0mcorpora\u001b[0m\u001b[0;34m.\u001b[0m\u001b[0mDictionary\u001b[0m\u001b[0;34m(\u001b[0m\u001b[0mline\u001b[0m\u001b[0;34m.\u001b[0m\u001b[0mlower\u001b[0m\u001b[0;34m(\u001b[0m\u001b[0;34m)\u001b[0m\u001b[0;34m.\u001b[0m\u001b[0msplit\u001b[0m\u001b[0;34m(\u001b[0m\u001b[0;34m)\u001b[0m \u001b[0;32mfor\u001b[0m \u001b[0mline\u001b[0m \u001b[0;32min\u001b[0m \u001b[0mopen\u001b[0m\u001b[0;34m(\u001b[0m\u001b[0;34m'datasets/sample_corpus.txt'\u001b[0m\u001b[0;34m)\u001b[0m\u001b[0;34m)\u001b[0m\u001b[0;34m\u001b[0m\u001b[0m\n\u001b[0m\u001b[1;32m      3\u001b[0m \u001b[0;34m\u001b[0m\u001b[0m\n\u001b[1;32m      4\u001b[0m \u001b[0;31m# identify stop words and words that appear only once\u001b[0m\u001b[0;34m\u001b[0m\u001b[0;34m\u001b[0m\u001b[0m\n\u001b[1;32m      5\u001b[0m \u001b[0mstoplist\u001b[0m \u001b[0;34m=\u001b[0m \u001b[0mset\u001b[0m\u001b[0;34m(\u001b[0m\u001b[0;34m'for a of the and to in'\u001b[0m\u001b[0;34m.\u001b[0m\u001b[0msplit\u001b[0m\u001b[0;34m(\u001b[0m\u001b[0;34m)\u001b[0m\u001b[0;34m)\u001b[0m\u001b[0;34m\u001b[0m\u001b[0m\n",
      "\u001b[0;31mFileNotFoundError\u001b[0m: [Errno 2] No such file or directory: 'datasets/sample_corpus.txt'"
     ]
    }
   ],
   "source": [
    "# collect statistics about all tokens\n",
    "dictionary = corpora.Dictionary(line.lower().split() for line in open('datasets/sample_corpus.txt'))\n",
    "\n",
    "# identify stop words and words that appear only once\n",
    "stoplist = set('for a of the and to in'.split())\n",
    "stop_ids = [dictionary.token2id[stopword] for stopword in stoplist \n",
    "            if stopword in dictionary.token2id]\n",
    "once_ids = [tokenid for tokenid, docfreq in iteritems(dictionary.dfs) if docfreq == 1]\n",
    "\n",
    "# remove stop words and words that appear only once\n",
    "dictionary.filter_tokens(stop_ids + once_ids)\n",
    "\n",
    "# remove gaps in id sequence after words that were removed\n",
    "dictionary.compactify()\n",
    "print(dictionary)"
   ]
  }
 ],
 "metadata": {
  "kernelspec": {
   "display_name": "Python 3",
   "language": "python",
   "name": "python3"
  },
  "language_info": {
   "codemirror_mode": {
    "name": "ipython",
    "version": 3
   },
   "file_extension": ".py",
   "mimetype": "text/x-python",
   "name": "python",
   "nbconvert_exporter": "python",
   "pygments_lexer": "ipython3",
   "version": "3.6.1"
  }
 },
 "nbformat": 4,
 "nbformat_minor": 2
}
