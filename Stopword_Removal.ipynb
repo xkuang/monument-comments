{
 "cells": [
  {
   "cell_type": "code",
   "execution_count": 187,
   "metadata": {
    "collapsed": true
   },
   "outputs": [],
   "source": [
    "# Required imports\n",
    "import nltk\n",
    "import pandas\n",
    "from nltk.corpus import stopwords\n",
    "from six import iteritems\n",
    "from gensim import corpora\n",
    "import pprint"
   ]
  },
  {
   "cell_type": "code",
   "execution_count": 221,
   "metadata": {
    "collapsed": true
   },
   "outputs": [],
   "source": [
    "#VARIABLES\n",
    "SAMPLE_SIZE = 1000\n"
   ]
  },
  {
   "cell_type": "code",
   "execution_count": 223,
   "metadata": {
    "collapsed": true
   },
   "outputs": [],
   "source": [
    "# Load in the data from CSV\n",
    "allComments = pandas.read_csv(\"./data/comments.csv\")"
   ]
  },
  {
   "cell_type": "code",
   "execution_count": 224,
   "metadata": {},
   "outputs": [
    {
     "data": {
      "text/html": [
       "<div>\n",
       "<style>\n",
       "    .dataframe thead tr:only-child th {\n",
       "        text-align: right;\n",
       "    }\n",
       "\n",
       "    .dataframe thead th {\n",
       "        text-align: left;\n",
       "    }\n",
       "\n",
       "    .dataframe tbody tr th {\n",
       "        vertical-align: top;\n",
       "    }\n",
       "</style>\n",
       "<table border=\"1\" class=\"dataframe\">\n",
       "  <thead>\n",
       "    <tr style=\"text-align: right;\">\n",
       "      <th></th>\n",
       "      <th>document_id</th>\n",
       "      <th>tracking_number</th>\n",
       "      <th>date_posted</th>\n",
       "      <th>retrieved</th>\n",
       "      <th>has_attachments</th>\n",
       "      <th>comment</th>\n",
       "      <th>document_url</th>\n",
       "    </tr>\n",
       "  </thead>\n",
       "  <tbody>\n",
       "    <tr>\n",
       "      <th>0</th>\n",
       "      <td>DOI-2017-0002-0002</td>\n",
       "      <td>1k1-8wbs-ucnh</td>\n",
       "      <td>2017-05-11</td>\n",
       "      <td>2017-05-27 01:43:49.443154</td>\n",
       "      <td>False</td>\n",
       "      <td>Our national monuments are a national treasure...</td>\n",
       "      <td>https://www.regulations.gov/document?D=DOI-201...</td>\n",
       "    </tr>\n",
       "    <tr>\n",
       "      <th>1</th>\n",
       "      <td>DOI-2017-0002-0003</td>\n",
       "      <td>1k1-8wbs-1cws</td>\n",
       "      <td>2017-05-11</td>\n",
       "      <td>2017-05-26 21:35:25.550530</td>\n",
       "      <td>False</td>\n",
       "      <td>1.We do not want National Monument protection ...</td>\n",
       "      <td>https://www.regulations.gov/document?D=DOI-201...</td>\n",
       "    </tr>\n",
       "    <tr>\n",
       "      <th>2</th>\n",
       "      <td>DOI-2017-0002-0004</td>\n",
       "      <td>1k1-8wbs-oj39</td>\n",
       "      <td>2017-05-11</td>\n",
       "      <td>2017-05-30 10:14:25.162305</td>\n",
       "      <td>False</td>\n",
       "      <td>The monuments must be preserved. the precedent...</td>\n",
       "      <td>https://www.regulations.gov/document?D=DOI-201...</td>\n",
       "    </tr>\n",
       "    <tr>\n",
       "      <th>3</th>\n",
       "      <td>DOI-2017-0002-0005</td>\n",
       "      <td>1k1-8wbs-9rjp</td>\n",
       "      <td>2017-05-11</td>\n",
       "      <td>2017-05-30 10:14:31.861017</td>\n",
       "      <td>False</td>\n",
       "      <td>My name is Ryan Erik Benally and I'm from Mont...</td>\n",
       "      <td>https://www.regulations.gov/document?D=DOI-201...</td>\n",
       "    </tr>\n",
       "    <tr>\n",
       "      <th>4</th>\n",
       "      <td>DOI-2017-0002-0006</td>\n",
       "      <td>1k1-8wbs-umhr</td>\n",
       "      <td>2017-05-11</td>\n",
       "      <td>2017-05-27 04:10:25.339717</td>\n",
       "      <td>False</td>\n",
       "      <td>all protections and preservations for the enti...</td>\n",
       "      <td>https://www.regulations.gov/document?D=DOI-201...</td>\n",
       "    </tr>\n",
       "  </tbody>\n",
       "</table>\n",
       "</div>"
      ],
      "text/plain": [
       "          document_id tracking_number date_posted                   retrieved  \\\n",
       "0  DOI-2017-0002-0002   1k1-8wbs-ucnh  2017-05-11  2017-05-27 01:43:49.443154   \n",
       "1  DOI-2017-0002-0003   1k1-8wbs-1cws  2017-05-11  2017-05-26 21:35:25.550530   \n",
       "2  DOI-2017-0002-0004   1k1-8wbs-oj39  2017-05-11  2017-05-30 10:14:25.162305   \n",
       "3  DOI-2017-0002-0005   1k1-8wbs-9rjp  2017-05-11  2017-05-30 10:14:31.861017   \n",
       "4  DOI-2017-0002-0006   1k1-8wbs-umhr  2017-05-11  2017-05-27 04:10:25.339717   \n",
       "\n",
       "   has_attachments                                            comment  \\\n",
       "0            False  Our national monuments are a national treasure...   \n",
       "1            False  1.We do not want National Monument protection ...   \n",
       "2            False  The monuments must be preserved. the precedent...   \n",
       "3            False  My name is Ryan Erik Benally and I'm from Mont...   \n",
       "4            False  all protections and preservations for the enti...   \n",
       "\n",
       "                                        document_url  \n",
       "0  https://www.regulations.gov/document?D=DOI-201...  \n",
       "1  https://www.regulations.gov/document?D=DOI-201...  \n",
       "2  https://www.regulations.gov/document?D=DOI-201...  \n",
       "3  https://www.regulations.gov/document?D=DOI-201...  \n",
       "4  https://www.regulations.gov/document?D=DOI-201...  "
      ]
     },
     "execution_count": 224,
     "metadata": {},
     "output_type": "execute_result"
    }
   ],
   "source": [
    "# What did we read in?\n",
    "allComments.head()\n"
   ]
  },
  {
   "cell_type": "code",
   "execution_count": 225,
   "metadata": {},
   "outputs": [
    {
     "data": {
      "text/plain": [
       "document_id        object\n",
       "tracking_number    object\n",
       "date_posted        object\n",
       "retrieved          object\n",
       "has_attachments      bool\n",
       "comment            object\n",
       "document_url       object\n",
       "dtype: object"
      ]
     },
     "execution_count": 225,
     "metadata": {},
     "output_type": "execute_result"
    }
   ],
   "source": [
    "# Convert comment field to string.\n",
    "allComments['comment'].astype('str')\n",
    "allComments.dtypes"
   ]
  },
  {
   "cell_type": "code",
   "execution_count": 226,
   "metadata": {},
   "outputs": [
    {
     "data": {
      "text/html": [
       "<div>\n",
       "<style>\n",
       "    .dataframe thead tr:only-child th {\n",
       "        text-align: right;\n",
       "    }\n",
       "\n",
       "    .dataframe thead th {\n",
       "        text-align: left;\n",
       "    }\n",
       "\n",
       "    .dataframe tbody tr th {\n",
       "        vertical-align: top;\n",
       "    }\n",
       "</style>\n",
       "<table border=\"1\" class=\"dataframe\">\n",
       "  <thead>\n",
       "    <tr style=\"text-align: right;\">\n",
       "      <th></th>\n",
       "      <th>document_id</th>\n",
       "      <th>tracking_number</th>\n",
       "      <th>date_posted</th>\n",
       "      <th>retrieved</th>\n",
       "      <th>has_attachments</th>\n",
       "      <th>comment</th>\n",
       "      <th>document_url</th>\n",
       "    </tr>\n",
       "  </thead>\n",
       "  <tbody>\n",
       "    <tr>\n",
       "      <th>69323</th>\n",
       "      <td>DOI-2017-0002-25109</td>\n",
       "      <td>1k1-8wfa-9t7u</td>\n",
       "      <td>2017-05-17</td>\n",
       "      <td>2017-05-26 21:55:47.096718</td>\n",
       "      <td>False</td>\n",
       "      <td>I am a native of Colorado, born and raised to ...</td>\n",
       "      <td>https://www.regulations.gov/document?D=DOI-201...</td>\n",
       "    </tr>\n",
       "    <tr>\n",
       "      <th>17061</th>\n",
       "      <td>DOI-2017-0002-114588</td>\n",
       "      <td>1k1-8wlz-wwmm</td>\n",
       "      <td>2017-05-27</td>\n",
       "      <td>2017-05-30 18:20:16.859381</td>\n",
       "      <td>False</td>\n",
       "      <td>National lands belong to all of us. They are A...</td>\n",
       "      <td>https://www.regulations.gov/document?D=DOI-201...</td>\n",
       "    </tr>\n",
       "    <tr>\n",
       "      <th>9938</th>\n",
       "      <td>DOI-2017-0002-108084</td>\n",
       "      <td>1k1-8wlr-h1ge</td>\n",
       "      <td>2017-05-26</td>\n",
       "      <td>2017-05-30 11:28:27.125953</td>\n",
       "      <td>False</td>\n",
       "      <td>Please rescind Bears Ears National Monument!</td>\n",
       "      <td>https://www.regulations.gov/document?D=DOI-201...</td>\n",
       "    </tr>\n",
       "    <tr>\n",
       "      <th>85830</th>\n",
       "      <td>DOI-2017-0002-40126</td>\n",
       "      <td>1k1-8wgd-1hzi</td>\n",
       "      <td>2017-05-18</td>\n",
       "      <td>2017-05-26 22:45:33.874416</td>\n",
       "      <td>False</td>\n",
       "      <td>Dear Secretary Ryan Zinke,\\n\\nI travel a lot f...</td>\n",
       "      <td>https://www.regulations.gov/document?D=DOI-201...</td>\n",
       "    </tr>\n",
       "    <tr>\n",
       "      <th>22802</th>\n",
       "      <td>DOI-2017-0002-119827</td>\n",
       "      <td>1k1-8wmq-rmod</td>\n",
       "      <td>2017-05-28</td>\n",
       "      <td>2017-05-30 19:17:00.509387</td>\n",
       "      <td>False</td>\n",
       "      <td>I am writing you in support of our national mo...</td>\n",
       "      <td>https://www.regulations.gov/document?D=DOI-201...</td>\n",
       "    </tr>\n",
       "  </tbody>\n",
       "</table>\n",
       "</div>"
      ],
      "text/plain": [
       "                document_id tracking_number date_posted  \\\n",
       "69323   DOI-2017-0002-25109   1k1-8wfa-9t7u  2017-05-17   \n",
       "17061  DOI-2017-0002-114588   1k1-8wlz-wwmm  2017-05-27   \n",
       "9938   DOI-2017-0002-108084   1k1-8wlr-h1ge  2017-05-26   \n",
       "85830   DOI-2017-0002-40126   1k1-8wgd-1hzi  2017-05-18   \n",
       "22802  DOI-2017-0002-119827   1k1-8wmq-rmod  2017-05-28   \n",
       "\n",
       "                        retrieved  has_attachments  \\\n",
       "69323  2017-05-26 21:55:47.096718            False   \n",
       "17061  2017-05-30 18:20:16.859381            False   \n",
       "9938   2017-05-30 11:28:27.125953            False   \n",
       "85830  2017-05-26 22:45:33.874416            False   \n",
       "22802  2017-05-30 19:17:00.509387            False   \n",
       "\n",
       "                                                 comment  \\\n",
       "69323  I am a native of Colorado, born and raised to ...   \n",
       "17061  National lands belong to all of us. They are A...   \n",
       "9938        Please rescind Bears Ears National Monument!   \n",
       "85830  Dear Secretary Ryan Zinke,\\n\\nI travel a lot f...   \n",
       "22802  I am writing you in support of our national mo...   \n",
       "\n",
       "                                            document_url  \n",
       "69323  https://www.regulations.gov/document?D=DOI-201...  \n",
       "17061  https://www.regulations.gov/document?D=DOI-201...  \n",
       "9938   https://www.regulations.gov/document?D=DOI-201...  \n",
       "85830  https://www.regulations.gov/document?D=DOI-201...  \n",
       "22802  https://www.regulations.gov/document?D=DOI-201...  "
      ]
     },
     "execution_count": 226,
     "metadata": {},
     "output_type": "execute_result"
    }
   ],
   "source": [
    "# Sample (scalable development)\n",
    "someComments = allComments.sample(n=SAMPLE_SIZE)\n",
    "# someComments = allComments\n",
    "someComments.head()"
   ]
  },
  {
   "cell_type": "code",
   "execution_count": 227,
   "metadata": {},
   "outputs": [
    {
     "data": {
      "text/plain": [
       "69323    [I, am, a, native, of, Colorado, ,, born, and,...\n",
       "17061    [National, lands, belong, to, all, of, us, ., ...\n",
       "9938     [Please, rescind, Bears, Ears, National, Monum...\n",
       "85830    [Dear, Secretary, Ryan, Zinke, ,, I, travel, a...\n",
       "22802    [I, am, writing, you, in, support, of, our, na...\n",
       "Name: comment, dtype: object"
      ]
     },
     "execution_count": 227,
     "metadata": {},
     "output_type": "execute_result"
    }
   ],
   "source": [
    "# First, tokenize\n",
    "tokenized_someComments = someComments.comment.apply(nltk.word_tokenize)\n",
    "tokenized_someComments.head()"
   ]
  },
  {
   "cell_type": "code",
   "execution_count": 236,
   "metadata": {},
   "outputs": [
    {
     "name": "stdout",
     "output_type": "stream",
     "text": [
      "We removed a total of 156 stopwords: ['i', 'me', 'my', 'myself', 'we', 'our', 'ours', 'ourselves', 'you', 'your', 'yours', 'yourself', 'yourselves', 'he', 'him', 'his', 'himself', 'she', 'her', 'hers', 'herself', 'it', 'its', 'itself', 'they', 'them', 'their', 'theirs', 'themselves', 'what', 'which', 'who', 'whom', 'this', 'that', 'these', 'those', 'am', 'is', 'are', 'was', 'were', 'be', 'been', 'being', 'have', 'has', 'had', 'having', 'do', 'does', 'did', 'doing', 'a', 'an', 'the', 'and', 'but', 'if', 'or', 'because', 'as', 'until', 'while', 'of', 'at', 'by', 'for', 'with', 'about', 'against', 'between', 'into', 'through', 'during', 'before', 'after', 'above', 'below', 'to', 'from', 'up', 'down', 'in', 'out', 'on', 'off', 'over', 'under', 'again', 'further', 'then', 'once', 'here', 'there', 'when', 'where', 'why', 'how', 'all', 'any', 'both', 'each', 'few', 'more', 'most', 'other', 'some', 'such', 'no', 'nor', 'not', 'only', 'own', 'same', 'so', 'than', 'too', 'very', 's', 't', 'can', 'will', 'just', 'don', 'should', 'now', 'd', 'll', 'm', 'o', 're', 've', 'y', 'ain', 'aren', 'couldn', 'didn', 'doesn', 'hadn', 'hasn', 'haven', 'isn', 'ma', 'mightn', 'mustn', 'needn', 'shan', 'shouldn', 'wasn', 'weren', 'won', 'wouldn', 'to', 'from', \"'s\"]\n"
     ]
    },
    {
     "data": {
      "text/plain": [
       "69323    [native, colorado, born, raised, love, outdoor...\n",
       "17061    [national, lands, belong, us, america, greates...\n",
       "9938     [please, rescind, bears, ears, national, monum...\n",
       "85830    [dear, secretary, ryan, zinke, travel, lot, wo...\n",
       "22802    [writing, support, national, monuments, commen...\n",
       "Name: comment, dtype: object"
      ]
     },
     "execution_count": 236,
     "metadata": {},
     "output_type": "execute_result"
    }
   ],
   "source": [
    "# Let's start with a small stopword list\n",
    "stop = [];\n",
    "stop.extend(stopwords.words('english'))\n",
    "stop.extend([\"to\", \"from\", \"'s\"])\n",
    "\n",
    "# using NLTK stopword list\n",
    "print(\"We removed a total of \" + str(len(stop)) + \" stopwords: \" + str(stop))\n",
    "\n",
    "tokenized_someComments = tokenized_someComments.apply(lambda x: [item.lower() for item in x if item not in stop and len(item) > 1])\n",
    "tokenized_someComments.head()"
   ]
  },
  {
   "cell_type": "code",
   "execution_count": 238,
   "metadata": {},
   "outputs": [
    {
     "data": {
      "text/plain": [
       "69323    [nativ, colorado, born, rais, love, outdoor, w...\n",
       "17061    [nation, land, belong, us, america, greatest, ...\n",
       "9938         [pleas, rescind, bear, ear, nation, monument]\n",
       "85830    [dear, secretari, ryan, zink, travel, lot, wor...\n",
       "22802    [write, support, nation, monument, comment, re...\n",
       "Name: comment, dtype: object"
      ]
     },
     "execution_count": 238,
     "metadata": {},
     "output_type": "execute_result"
    }
   ],
   "source": [
    "# Stemming\n",
    "porterStemmer = nltk.stem.porter.PorterStemmer()\n",
    "stemmed_someComments = tokenized_someComments.apply(lambda x: [porterStemmer.stem(x) for x in x])\n",
    "stemmed_someComments.head()"
   ]
  },
  {
   "cell_type": "code",
   "execution_count": 239,
   "metadata": {},
   "outputs": [
    {
     "data": {
      "text/plain": [
       "69323    [native, colorado, born, raised, love, outdoor...\n",
       "17061    [national, land, belong, u, america, greatest,...\n",
       "9938      [please, rescind, bear, ear, national, monument]\n",
       "85830    [dear, secretary, ryan, zinke, travel, lot, wo...\n",
       "22802    [writing, support, national, monument, comment...\n",
       "Name: comment, dtype: object"
      ]
     },
     "execution_count": 239,
     "metadata": {},
     "output_type": "execute_result"
    }
   ],
   "source": [
    "# Lemmatization\n",
    "wordnet_lemmatizer = nltk.stem.WordNetLemmatizer()\n",
    "lemmatized_someComments = tokenized_someComments.apply(lambda x: [wordnet_lemmatizer.lemmatize(x) for x in x])\n",
    "lemmatized_someComments.head()"
   ]
  },
  {
   "cell_type": "code",
   "execution_count": 240,
   "metadata": {},
   "outputs": [
    {
     "data": {
      "text/plain": [
       "69323    [nativ, colorado, born, rais, love, outdoor, w...\n",
       "17061    [nation, land, belong, u, america, greatest, i...\n",
       "9938         [pleas, rescind, bear, ear, nation, monument]\n",
       "85830    [dear, secretari, ryan, zink, travel, lot, wor...\n",
       "22802    [write, support, nation, monument, comment, re...\n",
       "Name: comment, dtype: object"
      ]
     },
     "execution_count": 240,
     "metadata": {},
     "output_type": "execute_result"
    }
   ],
   "source": [
    "# Stem the lemmatized tokens\n",
    "stemmed_and_lemmatized_someComments = lemmatized_someComments.apply(lambda x: [porterStemmer.stem(x) for x in x])\n",
    "stemmed_and_lemmatized_someComments.head()"
   ]
  },
  {
   "cell_type": "code",
   "execution_count": 241,
   "metadata": {
    "collapsed": true
   },
   "outputs": [],
   "source": [
    "# Get a frequency count using Counter (a really cool beefed up Hashmap data structure!)\n",
    "c = Counter()\n",
    "\n",
    "# Build the counter\n",
    "for row in lemmatized_someComments.iteritems():\n",
    "    for word in row[1]:\n",
    "        c[word] += 1"
   ]
  },
  {
   "cell_type": "code",
   "execution_count": 243,
   "metadata": {},
   "outputs": [
    {
     "name": "stdout",
     "output_type": "stream",
     "text": [
      "[('monument', 3722),\n",
      " ('national', 3107),\n",
      " ('land', 1833),\n",
      " ('public', 1296),\n",
      " ('water', 667),\n",
      " ('support', 665),\n",
      " ('bear', 658),\n",
      " ('ear', 654),\n",
      " ('bird', 633),\n",
      " ('protection',\n",
      "  574),\n",
      " ('zinke', 572),\n",
      " ('secretary', 564),\n",
      " ('dear', 534),\n",
      " ('protected', 533),\n",
      " ('urge', 512),\n",
      " ('designation',\n",
      "  495),\n",
      " ('ryan', 489),\n",
      " ('country', 471),\n",
      " ('would', 462),\n",
      " ('habitat', 452),\n",
      " ('canyon', 435),\n",
      " ('legacy', 434),\n",
      " ('president', 431),\n",
      " ('future', 424),\n",
      " ('american', 423),\n",
      " ('please', 419),\n",
      " ('protect', 415),\n",
      " ('community', 405),\n",
      " ('act', 403),\n",
      " ('roosevelt', 403),\n",
      " ('--', 397),\n",
      " ('place', 384),\n",
      " ('important', 377),\n",
      " ('generation',\n",
      "  375),\n",
      " ('review', 367),\n",
      " ('heritage', 364),\n",
      " ('year', 361),\n",
      " ('peak', 352),\n",
      " ('landscape', 350),\n",
      " ('natural', 342),\n",
      " ('antiquity', 335),\n",
      " ('sincerely', 321),\n",
      " ('need', 314),\n",
      " ('park', 310),\n",
      " ('change', 302),\n",
      " ('like', 301),\n",
      " ('nation', 296),\n",
      " ('area', 294),\n",
      " ('strongly', 293),\n",
      " ('value', 287),\n",
      " ('wildlife', 284),\n",
      " ('one', 262),\n",
      " ('current', 260),\n",
      " ('across', 252),\n",
      " ('people', 247),\n",
      " ('america', 243),\n",
      " ('vital', 235),\n",
      " ('safeguard', 227),\n",
      " ('utah', 226),\n",
      " ('conservation',\n",
      "  225),\n",
      " ('reject', 223),\n",
      " ('history', 222),\n",
      " ('cultural', 222),\n",
      " ('maintain', 219),\n",
      " ('wood', 217),\n",
      " ('many', 212),\n",
      " ('protecting',\n",
      "  212),\n",
      " ('opportunity',\n",
      "  208),\n",
      " ('party', 208),\n",
      " ('u', 204),\n",
      " ('local', 203),\n",
      " ('created', 201),\n",
      " ('organ', 200),\n",
      " ('state', 196),\n",
      " ('magnificent',\n",
      "  196),\n",
      " ('past', 195),\n",
      " ('mountains-desert',\n",
      "  193),\n",
      " ('critical', 183),\n",
      " ('child', 183),\n",
      " ('butte', 181),\n",
      " ('enjoy', 179),\n",
      " ('ecosystem', 179),\n",
      " ('maine', 178),\n",
      " ('grand', 176),\n",
      " ('attack', 175),\n",
      " ('hanford', 174),\n",
      " ('teddy', 173),\n",
      " ('site', 172),\n",
      " ('part', 171),\n",
      " ('reach', 171),\n",
      " ('pacific', 171),\n",
      " ('recreation',\n",
      "  170),\n",
      " ('pristine', 170),\n",
      " ('supporter', 169),\n",
      " ('katahdin', 168),\n",
      " ('washington',\n",
      "  167),\n",
      " ('iconic', 165),\n",
      " ('mistake', 162),\n",
      " ('northeast', 161),\n",
      " ('seamount', 160)]\n"
     ]
    }
   ],
   "source": [
    "pp = pprint.PrettyPrinter(width=20, compact=True)\n",
    "pp.pprint(c.most_common(100))\n"
   ]
  },
  {
   "cell_type": "code",
   "execution_count": null,
   "metadata": {
    "collapsed": true
   },
   "outputs": [],
   "source": []
  }
 ],
 "metadata": {
  "kernelspec": {
   "display_name": "Python 3",
   "language": "python",
   "name": "python3"
  },
  "language_info": {
   "codemirror_mode": {
    "name": "ipython",
    "version": 3
   },
   "file_extension": ".py",
   "mimetype": "text/x-python",
   "name": "python",
   "nbconvert_exporter": "python",
   "pygments_lexer": "ipython3",
   "version": "3.6.1"
  }
 },
 "nbformat": 4,
 "nbformat_minor": 2
}
